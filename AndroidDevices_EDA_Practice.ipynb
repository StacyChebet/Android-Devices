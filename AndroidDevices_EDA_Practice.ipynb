{
  "nbformat": 4,
  "nbformat_minor": 0,
  "metadata": {
    "colab": {
      "provenance": [],
      "authorship_tag": "ABX9TyPfgG9CcMrn/24aNt30kz0f",
      "include_colab_link": true
    },
    "kernelspec": {
      "name": "python3",
      "display_name": "Python 3"
    },
    "language_info": {
      "name": "python"
    }
  },
  "cells": [
    {
      "cell_type": "markdown",
      "metadata": {
        "id": "view-in-github",
        "colab_type": "text"
      },
      "source": [
        "<a href=\"https://colab.research.google.com/github/StacyChebet/Android-Devices/blob/main/AndroidDevices_EDA_Practice.ipynb\" target=\"_parent\"><img src=\"https://colab.research.google.com/assets/colab-badge.svg\" alt=\"Open In Colab\"/></a>"
      ]
    },
    {
      "cell_type": "markdown",
      "source": [
        "Exploratory Data Analysis using \"Android Devices and Mobiles\" dataset on Kaggle."
      ],
      "metadata": {
        "id": "4Yh3LEzWnORt"
      }
    },
    {
      "cell_type": "markdown",
      "source": [
        "##**Dataset Overview**\n",
        "The Android Devices and Mobiles dataset was scraped from Flipkart using Scrapy as part of a web scraping project. It was the creator’s second published dataset, primarily aimed at improving web scraping skills. This dataset provides an opportunity to practice exploratory data analysis (EDA), enhance data visualization skills, and work on solving basic regression problems. It serves as a valuable resource for honing analytical and modeling techniques in the context of e-commerce data.\n",
        "\n",
        "##**Features in the Dataset**\n",
        "- `battery`: The battery type and capacity in milliampere-hour (mAh)\n",
        "- `camera`: The camera resolution in megapixels\n",
        "- `display`: The screen size (in cm and inches) and the resolution\n",
        "- `memory`: The RAM capacity in gigabytes\n",
        "- `name`: The name of the device\n",
        "- `price`: The price of the device\n",
        "- `processor`: The processor type\n",
        "- `rating`: The rating of the device on a scale of 0 - 5\n",
        "- `reviews`: The number of reviews\n",
        "- `warranty`: The rype of warranty\n",
        "\n",
        "##**Loading Libraries and Data**\n",
        "Libraries used:\n",
        "- **Pandas**: For data manipulation\n",
        "- **Numpy**: For numerical operations\n",
        "- **Seaborn**: For data visualization\n"
      ],
      "metadata": {
        "id": "zwCCik0UnYPX"
      }
    },
    {
      "cell_type": "code",
      "source": [
        "#Importing necessary libraries\n",
        "import pandas as pd\n",
        "import numpy as np\n",
        "import matplotlib.pyplot as plt\n",
        "import seaborn as sns\n",
        "\n",
        "#Setting visualization styles\n",
        "sns.set(style=\"whitegrid\")\n",
        "\n",
        "#Mounting google drive\n",
        "from google.colab import drive\n",
        "drive.mount('/content/drive')\n",
        "\n",
        "#Changing directory\n",
        "%cd /content/drive/My Drive/Colab Notebooks/Data Analytics - IBT/AndroidDevices\n",
        "\n",
        "#Loading the dataset\n",
        "file_path = \"mobiles1.csv\"\n",
        "df = pd.read_csv(file_path)\n",
        "\n",
        "#Displaying the first few rows of the dataset\n",
        "df.head()"
      ],
      "metadata": {
        "colab": {
          "base_uri": "https://localhost:8080/",
          "height": 416
        },
        "id": "UeZI828DuG-3",
        "outputId": "0d314ac2-839b-41d2-d674-c5561e7f0913"
      },
      "execution_count": 6,
      "outputs": [
        {
          "output_type": "stream",
          "name": "stdout",
          "text": [
            "Drive already mounted at /content/drive; to attempt to forcibly remount, call drive.mount(\"/content/drive\", force_remount=True).\n",
            "/content/drive/My Drive/Colab Notebooks/Data Analytics - IBT/AndroidDevices\n"
          ]
        },
        {
          "output_type": "execute_result",
          "data": {
            "text/plain": [
              "            battery                                     camera  \\\n",
              "0  5000 mAh Battery              12MP + 2MP | 8MP Front Camera   \n",
              "1  5000 mAh Battery  12MP + 8MP + 2MP + 2MP | 8MP Front Camera   \n",
              "2  5000 mAh Battery  12MP + 8MP + 2MP + 2MP | 8MP Front Camera   \n",
              "3  5000 mAh Battery  12MP + 8MP + 2MP + 2MP | 8MP Front Camera   \n",
              "4  4000 mAh Battery              13MP + 2MP | 5MP Front Camera   \n",
              "\n",
              "                            display  \\\n",
              "0   15.8 cm (6.22 inch) HD+ Display   \n",
              "1  16.56 cm (6.52 inch) HD+ Display   \n",
              "2  16.56 cm (6.52 inch) HD+ Display   \n",
              "3  16.56 cm (6.52 inch) HD+ Display   \n",
              "4   15.49 cm (6.1 inch) HD+ Display   \n",
              "\n",
              "                                          memory  \\\n",
              "0  4 GB RAM | 64 GB ROM | Expandable Upto 512 GB   \n",
              "1                           4 GB RAM | 64 GB ROM   \n",
              "2                          4 GB RAM | 128 GB ROM   \n",
              "3                          4 GB RAM | 128 GB ROM   \n",
              "4  3 GB RAM | 32 GB ROM | Expandable Upto 256 GB   \n",
              "\n",
              "                               name  price  \\\n",
              "0         Redmi 8 (Ruby Red, 64 GB)   9999   \n",
              "1      Realme 5i (Aqua Blue, 64 GB)  10999   \n",
              "2     Realme 5i (Aqua Blue, 128 GB)  11999   \n",
              "3  Realme 5i (Forest Green, 128 GB)  11999   \n",
              "4   Realme C2 (Diamond Blue, 32 GB)   7499   \n",
              "\n",
              "                                   processor  rating         reviews  \\\n",
              "0          Qualcomm Snapdragon 439 Processor     4.4  55,078 Reviews   \n",
              "1    Qualcomm Snapdragon 665 2 GHz Processor     4.5  20,062 Reviews   \n",
              "2  Qualcomm Snapdragon 665 (2 GHz) Processor     4.5  20,062 Reviews   \n",
              "3  Qualcomm Snapdragon 665 (2 GHz) Processor     4.5  20,062 Reviews   \n",
              "4   MediaTek P22 Octa Core 2.0 GHz Processor     4.4  10,091 Reviews   \n",
              "\n",
              "                                            warranty  \n",
              "0  Brand Warranty of 1 Year Available for Mobile ...  \n",
              "1                                     Sunrise Design  \n",
              "2                                     Sunrise Design  \n",
              "3                                     Sunrise Design  \n",
              "4           Dual Nano SIM slots and Memory Card Slot  "
            ],
            "text/html": [
              "\n",
              "  <div id=\"df-62ecd88f-c9c9-4398-afb8-698d65c43fb8\" class=\"colab-df-container\">\n",
              "    <div>\n",
              "<style scoped>\n",
              "    .dataframe tbody tr th:only-of-type {\n",
              "        vertical-align: middle;\n",
              "    }\n",
              "\n",
              "    .dataframe tbody tr th {\n",
              "        vertical-align: top;\n",
              "    }\n",
              "\n",
              "    .dataframe thead th {\n",
              "        text-align: right;\n",
              "    }\n",
              "</style>\n",
              "<table border=\"1\" class=\"dataframe\">\n",
              "  <thead>\n",
              "    <tr style=\"text-align: right;\">\n",
              "      <th></th>\n",
              "      <th>battery</th>\n",
              "      <th>camera</th>\n",
              "      <th>display</th>\n",
              "      <th>memory</th>\n",
              "      <th>name</th>\n",
              "      <th>price</th>\n",
              "      <th>processor</th>\n",
              "      <th>rating</th>\n",
              "      <th>reviews</th>\n",
              "      <th>warranty</th>\n",
              "    </tr>\n",
              "  </thead>\n",
              "  <tbody>\n",
              "    <tr>\n",
              "      <th>0</th>\n",
              "      <td>5000 mAh Battery</td>\n",
              "      <td>12MP + 2MP | 8MP Front Camera</td>\n",
              "      <td>15.8 cm (6.22 inch) HD+ Display</td>\n",
              "      <td>4 GB RAM | 64 GB ROM | Expandable Upto 512 GB</td>\n",
              "      <td>Redmi 8 (Ruby Red, 64 GB)</td>\n",
              "      <td>9999</td>\n",
              "      <td>Qualcomm Snapdragon 439 Processor</td>\n",
              "      <td>4.4</td>\n",
              "      <td>55,078 Reviews</td>\n",
              "      <td>Brand Warranty of 1 Year Available for Mobile ...</td>\n",
              "    </tr>\n",
              "    <tr>\n",
              "      <th>1</th>\n",
              "      <td>5000 mAh Battery</td>\n",
              "      <td>12MP + 8MP + 2MP + 2MP | 8MP Front Camera</td>\n",
              "      <td>16.56 cm (6.52 inch) HD+ Display</td>\n",
              "      <td>4 GB RAM | 64 GB ROM</td>\n",
              "      <td>Realme 5i (Aqua Blue, 64 GB)</td>\n",
              "      <td>10999</td>\n",
              "      <td>Qualcomm Snapdragon 665 2 GHz Processor</td>\n",
              "      <td>4.5</td>\n",
              "      <td>20,062 Reviews</td>\n",
              "      <td>Sunrise Design</td>\n",
              "    </tr>\n",
              "    <tr>\n",
              "      <th>2</th>\n",
              "      <td>5000 mAh Battery</td>\n",
              "      <td>12MP + 8MP + 2MP + 2MP | 8MP Front Camera</td>\n",
              "      <td>16.56 cm (6.52 inch) HD+ Display</td>\n",
              "      <td>4 GB RAM | 128 GB ROM</td>\n",
              "      <td>Realme 5i (Aqua Blue, 128 GB)</td>\n",
              "      <td>11999</td>\n",
              "      <td>Qualcomm Snapdragon 665 (2 GHz) Processor</td>\n",
              "      <td>4.5</td>\n",
              "      <td>20,062 Reviews</td>\n",
              "      <td>Sunrise Design</td>\n",
              "    </tr>\n",
              "    <tr>\n",
              "      <th>3</th>\n",
              "      <td>5000 mAh Battery</td>\n",
              "      <td>12MP + 8MP + 2MP + 2MP | 8MP Front Camera</td>\n",
              "      <td>16.56 cm (6.52 inch) HD+ Display</td>\n",
              "      <td>4 GB RAM | 128 GB ROM</td>\n",
              "      <td>Realme 5i (Forest Green, 128 GB)</td>\n",
              "      <td>11999</td>\n",
              "      <td>Qualcomm Snapdragon 665 (2 GHz) Processor</td>\n",
              "      <td>4.5</td>\n",
              "      <td>20,062 Reviews</td>\n",
              "      <td>Sunrise Design</td>\n",
              "    </tr>\n",
              "    <tr>\n",
              "      <th>4</th>\n",
              "      <td>4000 mAh Battery</td>\n",
              "      <td>13MP + 2MP | 5MP Front Camera</td>\n",
              "      <td>15.49 cm (6.1 inch) HD+ Display</td>\n",
              "      <td>3 GB RAM | 32 GB ROM | Expandable Upto 256 GB</td>\n",
              "      <td>Realme C2 (Diamond Blue, 32 GB)</td>\n",
              "      <td>7499</td>\n",
              "      <td>MediaTek P22 Octa Core 2.0 GHz Processor</td>\n",
              "      <td>4.4</td>\n",
              "      <td>10,091 Reviews</td>\n",
              "      <td>Dual Nano SIM slots and Memory Card Slot</td>\n",
              "    </tr>\n",
              "  </tbody>\n",
              "</table>\n",
              "</div>\n",
              "    <div class=\"colab-df-buttons\">\n",
              "\n",
              "  <div class=\"colab-df-container\">\n",
              "    <button class=\"colab-df-convert\" onclick=\"convertToInteractive('df-62ecd88f-c9c9-4398-afb8-698d65c43fb8')\"\n",
              "            title=\"Convert this dataframe to an interactive table.\"\n",
              "            style=\"display:none;\">\n",
              "\n",
              "  <svg xmlns=\"http://www.w3.org/2000/svg\" height=\"24px\" viewBox=\"0 -960 960 960\">\n",
              "    <path d=\"M120-120v-720h720v720H120Zm60-500h600v-160H180v160Zm220 220h160v-160H400v160Zm0 220h160v-160H400v160ZM180-400h160v-160H180v160Zm440 0h160v-160H620v160ZM180-180h160v-160H180v160Zm440 0h160v-160H620v160Z\"/>\n",
              "  </svg>\n",
              "    </button>\n",
              "\n",
              "  <style>\n",
              "    .colab-df-container {\n",
              "      display:flex;\n",
              "      gap: 12px;\n",
              "    }\n",
              "\n",
              "    .colab-df-convert {\n",
              "      background-color: #E8F0FE;\n",
              "      border: none;\n",
              "      border-radius: 50%;\n",
              "      cursor: pointer;\n",
              "      display: none;\n",
              "      fill: #1967D2;\n",
              "      height: 32px;\n",
              "      padding: 0 0 0 0;\n",
              "      width: 32px;\n",
              "    }\n",
              "\n",
              "    .colab-df-convert:hover {\n",
              "      background-color: #E2EBFA;\n",
              "      box-shadow: 0px 1px 2px rgba(60, 64, 67, 0.3), 0px 1px 3px 1px rgba(60, 64, 67, 0.15);\n",
              "      fill: #174EA6;\n",
              "    }\n",
              "\n",
              "    .colab-df-buttons div {\n",
              "      margin-bottom: 4px;\n",
              "    }\n",
              "\n",
              "    [theme=dark] .colab-df-convert {\n",
              "      background-color: #3B4455;\n",
              "      fill: #D2E3FC;\n",
              "    }\n",
              "\n",
              "    [theme=dark] .colab-df-convert:hover {\n",
              "      background-color: #434B5C;\n",
              "      box-shadow: 0px 1px 3px 1px rgba(0, 0, 0, 0.15);\n",
              "      filter: drop-shadow(0px 1px 2px rgba(0, 0, 0, 0.3));\n",
              "      fill: #FFFFFF;\n",
              "    }\n",
              "  </style>\n",
              "\n",
              "    <script>\n",
              "      const buttonEl =\n",
              "        document.querySelector('#df-62ecd88f-c9c9-4398-afb8-698d65c43fb8 button.colab-df-convert');\n",
              "      buttonEl.style.display =\n",
              "        google.colab.kernel.accessAllowed ? 'block' : 'none';\n",
              "\n",
              "      async function convertToInteractive(key) {\n",
              "        const element = document.querySelector('#df-62ecd88f-c9c9-4398-afb8-698d65c43fb8');\n",
              "        const dataTable =\n",
              "          await google.colab.kernel.invokeFunction('convertToInteractive',\n",
              "                                                    [key], {});\n",
              "        if (!dataTable) return;\n",
              "\n",
              "        const docLinkHtml = 'Like what you see? Visit the ' +\n",
              "          '<a target=\"_blank\" href=https://colab.research.google.com/notebooks/data_table.ipynb>data table notebook</a>'\n",
              "          + ' to learn more about interactive tables.';\n",
              "        element.innerHTML = '';\n",
              "        dataTable['output_type'] = 'display_data';\n",
              "        await google.colab.output.renderOutput(dataTable, element);\n",
              "        const docLink = document.createElement('div');\n",
              "        docLink.innerHTML = docLinkHtml;\n",
              "        element.appendChild(docLink);\n",
              "      }\n",
              "    </script>\n",
              "  </div>\n",
              "\n",
              "\n",
              "<div id=\"df-94e3e648-d1e0-4e56-b84d-7aebaf88ab2e\">\n",
              "  <button class=\"colab-df-quickchart\" onclick=\"quickchart('df-94e3e648-d1e0-4e56-b84d-7aebaf88ab2e')\"\n",
              "            title=\"Suggest charts\"\n",
              "            style=\"display:none;\">\n",
              "\n",
              "<svg xmlns=\"http://www.w3.org/2000/svg\" height=\"24px\"viewBox=\"0 0 24 24\"\n",
              "     width=\"24px\">\n",
              "    <g>\n",
              "        <path d=\"M19 3H5c-1.1 0-2 .9-2 2v14c0 1.1.9 2 2 2h14c1.1 0 2-.9 2-2V5c0-1.1-.9-2-2-2zM9 17H7v-7h2v7zm4 0h-2V7h2v10zm4 0h-2v-4h2v4z\"/>\n",
              "    </g>\n",
              "</svg>\n",
              "  </button>\n",
              "\n",
              "<style>\n",
              "  .colab-df-quickchart {\n",
              "      --bg-color: #E8F0FE;\n",
              "      --fill-color: #1967D2;\n",
              "      --hover-bg-color: #E2EBFA;\n",
              "      --hover-fill-color: #174EA6;\n",
              "      --disabled-fill-color: #AAA;\n",
              "      --disabled-bg-color: #DDD;\n",
              "  }\n",
              "\n",
              "  [theme=dark] .colab-df-quickchart {\n",
              "      --bg-color: #3B4455;\n",
              "      --fill-color: #D2E3FC;\n",
              "      --hover-bg-color: #434B5C;\n",
              "      --hover-fill-color: #FFFFFF;\n",
              "      --disabled-bg-color: #3B4455;\n",
              "      --disabled-fill-color: #666;\n",
              "  }\n",
              "\n",
              "  .colab-df-quickchart {\n",
              "    background-color: var(--bg-color);\n",
              "    border: none;\n",
              "    border-radius: 50%;\n",
              "    cursor: pointer;\n",
              "    display: none;\n",
              "    fill: var(--fill-color);\n",
              "    height: 32px;\n",
              "    padding: 0;\n",
              "    width: 32px;\n",
              "  }\n",
              "\n",
              "  .colab-df-quickchart:hover {\n",
              "    background-color: var(--hover-bg-color);\n",
              "    box-shadow: 0 1px 2px rgba(60, 64, 67, 0.3), 0 1px 3px 1px rgba(60, 64, 67, 0.15);\n",
              "    fill: var(--button-hover-fill-color);\n",
              "  }\n",
              "\n",
              "  .colab-df-quickchart-complete:disabled,\n",
              "  .colab-df-quickchart-complete:disabled:hover {\n",
              "    background-color: var(--disabled-bg-color);\n",
              "    fill: var(--disabled-fill-color);\n",
              "    box-shadow: none;\n",
              "  }\n",
              "\n",
              "  .colab-df-spinner {\n",
              "    border: 2px solid var(--fill-color);\n",
              "    border-color: transparent;\n",
              "    border-bottom-color: var(--fill-color);\n",
              "    animation:\n",
              "      spin 1s steps(1) infinite;\n",
              "  }\n",
              "\n",
              "  @keyframes spin {\n",
              "    0% {\n",
              "      border-color: transparent;\n",
              "      border-bottom-color: var(--fill-color);\n",
              "      border-left-color: var(--fill-color);\n",
              "    }\n",
              "    20% {\n",
              "      border-color: transparent;\n",
              "      border-left-color: var(--fill-color);\n",
              "      border-top-color: var(--fill-color);\n",
              "    }\n",
              "    30% {\n",
              "      border-color: transparent;\n",
              "      border-left-color: var(--fill-color);\n",
              "      border-top-color: var(--fill-color);\n",
              "      border-right-color: var(--fill-color);\n",
              "    }\n",
              "    40% {\n",
              "      border-color: transparent;\n",
              "      border-right-color: var(--fill-color);\n",
              "      border-top-color: var(--fill-color);\n",
              "    }\n",
              "    60% {\n",
              "      border-color: transparent;\n",
              "      border-right-color: var(--fill-color);\n",
              "    }\n",
              "    80% {\n",
              "      border-color: transparent;\n",
              "      border-right-color: var(--fill-color);\n",
              "      border-bottom-color: var(--fill-color);\n",
              "    }\n",
              "    90% {\n",
              "      border-color: transparent;\n",
              "      border-bottom-color: var(--fill-color);\n",
              "    }\n",
              "  }\n",
              "</style>\n",
              "\n",
              "  <script>\n",
              "    async function quickchart(key) {\n",
              "      const quickchartButtonEl =\n",
              "        document.querySelector('#' + key + ' button');\n",
              "      quickchartButtonEl.disabled = true;  // To prevent multiple clicks.\n",
              "      quickchartButtonEl.classList.add('colab-df-spinner');\n",
              "      try {\n",
              "        const charts = await google.colab.kernel.invokeFunction(\n",
              "            'suggestCharts', [key], {});\n",
              "      } catch (error) {\n",
              "        console.error('Error during call to suggestCharts:', error);\n",
              "      }\n",
              "      quickchartButtonEl.classList.remove('colab-df-spinner');\n",
              "      quickchartButtonEl.classList.add('colab-df-quickchart-complete');\n",
              "    }\n",
              "    (() => {\n",
              "      let quickchartButtonEl =\n",
              "        document.querySelector('#df-94e3e648-d1e0-4e56-b84d-7aebaf88ab2e button');\n",
              "      quickchartButtonEl.style.display =\n",
              "        google.colab.kernel.accessAllowed ? 'block' : 'none';\n",
              "    })();\n",
              "  </script>\n",
              "</div>\n",
              "\n",
              "    </div>\n",
              "  </div>\n"
            ],
            "application/vnd.google.colaboratory.intrinsic+json": {
              "type": "dataframe",
              "variable_name": "df",
              "summary": "{\n  \"name\": \"df\",\n  \"rows\": 984,\n  \"fields\": [\n    {\n      \"column\": \"battery\",\n      \"properties\": {\n        \"dtype\": \"category\",\n        \"num_unique_values\": 177,\n        \"samples\": [\n          \"4500 mAh Lithium-ion Battery\",\n          \"4020 mAh Battery\",\n          \"2500 mAh Lithium Polymer Battery\"\n        ],\n        \"semantic_type\": \"\",\n        \"description\": \"\"\n      }\n    },\n    {\n      \"column\": \"camera\",\n      \"properties\": {\n        \"dtype\": \"category\",\n        \"num_unique_values\": 185,\n        \"samples\": [\n          \"64MP + 8MP + 2MP + 2MP | 20MP Front Camera\",\n          \"48MP + 8MP + 5MP + 5MP | 20MP Front Camera\",\n          \"5MP + 0.08MP | 2MP Front Camera\"\n        ],\n        \"semantic_type\": \"\",\n        \"description\": \"\"\n      }\n    },\n    {\n      \"column\": \"display\",\n      \"properties\": {\n        \"dtype\": \"category\",\n        \"num_unique_values\": 125,\n        \"samples\": [\n          \"16.59 cm (6.53 inch) Display\",\n          \"13.84 cm (5.45 inch) FWVGA Display\",\n          \"13.46 cm (5.3 inch) Full HD+ Display\"\n        ],\n        \"semantic_type\": \"\",\n        \"description\": \"\"\n      }\n    },\n    {\n      \"column\": \"memory\",\n      \"properties\": {\n        \"dtype\": \"category\",\n        \"num_unique_values\": 89,\n        \"samples\": [\n          \"3 GB RAM | 16 GB ROM | Expandable Upto 64 GB\",\n          \"1 GB RAM | 16 GB ROM | Expandable Upto 128 GB\",\n          \"8 GB RAM | 256 GB ROM | Expandable Upto 256 GB\"\n        ],\n        \"semantic_type\": \"\",\n        \"description\": \"\"\n      }\n    },\n    {\n      \"column\": \"name\",\n      \"properties\": {\n        \"dtype\": \"string\",\n        \"num_unique_values\": 878,\n        \"samples\": [\n          \"Itel A23 (Phantom Black, 8 GB)\",\n          \"Realme XT (Pearl Blue, 128 GB)\",\n          \"Samsung Galaxy On5 (Gold, 8 GB)\"\n        ],\n        \"semantic_type\": \"\",\n        \"description\": \"\"\n      }\n    },\n    {\n      \"column\": \"price\",\n      \"properties\": {\n        \"dtype\": \"number\",\n        \"std\": 12891,\n        \"min\": 887,\n        \"max\": 104999,\n        \"num_unique_values\": 355,\n        \"samples\": [\n          3290,\n          15891,\n          26900\n        ],\n        \"semantic_type\": \"\",\n        \"description\": \"\"\n      }\n    },\n    {\n      \"column\": \"processor\",\n      \"properties\": {\n        \"dtype\": \"category\",\n        \"num_unique_values\": 287,\n        \"samples\": [\n          \"Qualcomm SM6125 Processor\",\n          \"MT6737T Processor\",\n          \"Octa Core Qualcomm Snapdragon 430 Processor\"\n        ],\n        \"semantic_type\": \"\",\n        \"description\": \"\"\n      }\n    },\n    {\n      \"column\": \"rating\",\n      \"properties\": {\n        \"dtype\": \"number\",\n        \"std\": 0.30029575492320726,\n        \"min\": 2.7,\n        \"max\": 4.9,\n        \"num_unique_values\": 23,\n        \"samples\": [\n          3.6,\n          4.0,\n          4.4\n        ],\n        \"semantic_type\": \"\",\n        \"description\": \"\"\n      }\n    },\n    {\n      \"column\": \"reviews\",\n      \"properties\": {\n        \"dtype\": \"category\",\n        \"num_unique_values\": 386,\n        \"samples\": [\n          \"2,290 Reviews\",\n          \"380 Reviews\",\n          \"36 Reviews\"\n        ],\n        \"semantic_type\": \"\",\n        \"description\": \"\"\n      }\n    },\n    {\n      \"column\": \"warranty\",\n      \"properties\": {\n        \"dtype\": \"category\",\n        \"num_unique_values\": 92,\n        \"samples\": [\n          \"Brand Warranty of 1 Year Available for Mobile, 6 Months for Battery and 3 Months on Accessories (Data Cable)\",\n          \"Fast Charging\",\n          \"1 Year for Mobile & 6 Months for Accessories\"\n        ],\n        \"semantic_type\": \"\",\n        \"description\": \"\"\n      }\n    }\n  ]\n}"
            }
          },
          "metadata": {},
          "execution_count": 6
        }
      ]
    },
    {
      "cell_type": "markdown",
      "source": [
        "##**Initial Data Exploration**\n",
        "An initial exploration of the dataset to understand its structure and basic characteristics by:\n",
        "1. Checking the shape of the dataset\n",
        "2. Displaying the data types of each column\n",
        "3. Getting a summary of the dataset using descriptive statistics"
      ],
      "metadata": {
        "id": "aKLd-nDCvz8U"
      }
    },
    {
      "cell_type": "code",
      "source": [
        "#Checking the shape of the dataset\n",
        "print(f\"The data set contains {df.shape[0]} rows and {df.shape[1]} columns.\")\n",
        "\n",
        "#Displaying the data types of each column\n",
        "print(\"\\nData types of each column:\")\n",
        "print(df.dtypes)\n",
        "\n",
        "#Getting a summary of the dataset using descriptive statistics\n",
        "print(\"\\nSummary of the dataset:\")\n",
        "print(df.describe().T)"
      ],
      "metadata": {
        "colab": {
          "base_uri": "https://localhost:8080/"
        },
        "id": "_ioDVPOYwckK",
        "outputId": "a98cddf1-562e-4fc2-97be-d7badec7c379"
      },
      "execution_count": 7,
      "outputs": [
        {
          "output_type": "stream",
          "name": "stdout",
          "text": [
            "The data set contains 984 rows and 10 columns.\n",
            "\n",
            "Data types of each column:\n",
            "battery       object\n",
            "camera        object\n",
            "display       object\n",
            "memory        object\n",
            "name          object\n",
            "price          int64\n",
            "processor     object\n",
            "rating       float64\n",
            "reviews       object\n",
            "warranty      object\n",
            "dtype: object\n",
            "\n",
            "Summary of the dataset:\n",
            "        count          mean           std    min     25%      50%       75%  \\\n",
            "price   984.0  15429.848577  12891.355967  887.0  7499.0  11649.0  17999.25   \n",
            "rating  971.0      4.241195      0.300296    2.7     4.1      4.3      4.40   \n",
            "\n",
            "             max  \n",
            "price   104999.0  \n",
            "rating       4.9  \n"
          ]
        }
      ]
    },
    {
      "cell_type": "markdown",
      "source": [
        "##**Findings**\n",
        "- The dataset only has 2 numeric columns: `price` and `rating`.\n",
        "- The `rating` column has a count of 971 meaning 13 rows have null values.\n",
        "\n",
        "##**Summary Statistics of the Numeric Columns**\n",
        "- `price`: The price ranges from 887 to 104,999 with a significant standard deviation of 12891.36, suggesting a wide disparity in the device prices.\n",
        "- `rating`: The rating ranges from 2.7 to 4.9 with a standard deviation of 0.3, suggesting that the data points are closer to the mean, which is 4.2."
      ],
      "metadata": {
        "id": "Ar1rkl_fxchA"
      }
    },
    {
      "cell_type": "markdown",
      "source": [
        "##**Checking for Missing Values**"
      ],
      "metadata": {
        "id": "qb25l4HtQOHS"
      }
    },
    {
      "cell_type": "code",
      "source": [
        "#Check for missing values in each column\n",
        "print(\"\\nMissing values in each column:\")\n",
        "print(df.isnull().sum())"
      ],
      "metadata": {
        "colab": {
          "base_uri": "https://localhost:8080/"
        },
        "id": "Ev_ySdq8QTMc",
        "outputId": "1031bf18-ad44-48c0-d34b-43f6b1406aa5"
      },
      "execution_count": 8,
      "outputs": [
        {
          "output_type": "stream",
          "name": "stdout",
          "text": [
            "\n",
            "Missing values in each column:\n",
            "battery        0\n",
            "camera         0\n",
            "display        0\n",
            "memory         0\n",
            "name           0\n",
            "price          0\n",
            "processor      1\n",
            "rating        13\n",
            "reviews       13\n",
            "warranty     148\n",
            "dtype: int64\n"
          ]
        }
      ]
    },
    {
      "cell_type": "markdown",
      "source": [
        "##**Missing Values Analysis**\n",
        "Missing data can significantly affect the outcomes of our analysis and predictive modeling.<br>\n",
        "Here's a breakdown of missing values across different columns in the dataset:\n",
        "- `battery`, `camera`, `display`, `memory`, `name`, `price`: No missing values, which simplifies preprocessing for these columns.\n",
        "- `processor`: 1 missing value. There is need to make a decision whether to remove or impute this value.\n",
        "- `rating`: 13 missing values, which is small compared to the relative dataset size, and we may opt for simple imputation methods like mode replacement.\n",
        "- `reviews`: 13 missing values and just like with `rating`, we might opt for mode replacement.\n",
        "- `warranty`: 148 missing values, which is a significant number that requires careful consideration for imputation, as it could impact analysis related to the price of devices."
      ],
      "metadata": {
        "id": "ahco9HarQm-S"
      }
    },
    {
      "cell_type": "markdown",
      "source": [
        "##**Check for Unique Values to Understand Cardinality**"
      ],
      "metadata": {
        "id": "NS_OFA4MSKrN"
      }
    },
    {
      "cell_type": "code",
      "source": [
        "#Check the number of unique values in each column to understand cardinality\n",
        "print(\"\\nUnique Values in Each Column:\")\n",
        "print(df.nunique())"
      ],
      "metadata": {
        "colab": {
          "base_uri": "https://localhost:8080/"
        },
        "id": "Jw2rycvRS1Da",
        "outputId": "74bdd42c-9b3b-4d2e-c749-2968fd28dfb2"
      },
      "execution_count": 9,
      "outputs": [
        {
          "output_type": "stream",
          "name": "stdout",
          "text": [
            "\n",
            "Unique Values in Each Column:\n",
            "battery      177\n",
            "camera       185\n",
            "display      125\n",
            "memory        89\n",
            "name         878\n",
            "price        355\n",
            "processor    287\n",
            "rating        23\n",
            "reviews      386\n",
            "warranty      92\n",
            "dtype: int64\n"
          ]
        }
      ]
    },
    {
      "cell_type": "markdown",
      "source": [
        "##**Cardinality Analysis**\n",
        "Understanding cardinality is important for identifying features with a wide range of values and those with limited variety, which influences how we might process and use these features in machine learning models.<br>\n",
        "Below is a summary of the cardinality in each column of our dataset:\n",
        "- `battery`: 177 unique values, which implys a wide range of battery capacities.\n",
        "- `camera`: 185 unique values, which exhibits high cardinality, implying a wide range of camera resolutions.\n",
        "- `display`: 125 unique values, which indicates moderate cardinality. This suggests that there is a significant variety in display specifications.\n",
        "- `memory`: 89 unique values, which exhibits moderate cardinality meaning there may be commonly repeated values for example 32GB, 128GB.\n",
        "- `name`: 878 unique values, indicating a high cardinality which suggests that most devices have unique names.\n",
        "- `price`: 355 unique values, showing a relatively high variation in pricing.\n",
        "- `processor`: 287 unique values which exhibits a relatively high cardinality, implying a wide range of processor specifications.\n",
        "- `rating`: 23 unique values, indicating that there may be discrete ratings.\n",
        "- `reviews`: 386 unique values, showing diverse review counts across devices.\n",
        "- `warranty`: 92 unique values, exhibiting moderate cardinality. This means that there may be commonly repeated warranty specifications.\n",
        "\n",
        "##**Implications of Cardinality**\n",
        "- **High Cardinality (`name`, `processor`, `price`, `reviews`)**: May require encoding techniques like target encoding or embeddings if used in machine learning models.\n",
        "- **Moderate Cardinality(`camera`, `battery`, `display`)**: May be grouped into bins for better analysis or visualization.\n",
        "- **Low Cardinality (`memory`, `rating`, `warranty`)**: Suggests that these columns may be categorical and suitable for one-hot encoding\n"
      ],
      "metadata": {
        "id": "v8sNsMuAs_mL"
      }
    },
    {
      "cell_type": "markdown",
      "source": [
        "##**Treating Missing Values in the Dataset**\n",
        "Missing values can introduce bias and affect the performance of machine learning models. <br>\n",
        "The following columns have missing values that need to be addressed before further analysis:\n",
        "- `processor`: Since this column is only missing 1 value, which is small relative to the size of the dataset, the most appropriate action is to drop this row.\n",
        "- `rating`: 13 values are missing and since this is a categorical value, mode imputation is the best action, which represents the most common category.\n",
        "- `reviews`: This column is also missing 13 values and mode imputation is the best course of action.\n",
        "- `warranty`: There are 148 values missing in this column, which is significant when compared to the size of the dataset. Since there is no way to determine the warranty type, filling the missing values with 'No warranty information' would be the best course of action."
      ],
      "metadata": {
        "id": "9V9LyX25o_cs"
      }
    },
    {
      "cell_type": "code",
      "source": [
        "# Deleting the row with a missing processor value\n",
        "df.dropna(subset=['processor'], inplace=True)\n",
        "\n",
        "#Imputing the missing values in rating with mode\n",
        "rating_mode = df['rating'].mode()[0]\n",
        "df['rating'] = df['rating'].fillna(rating_mode)\n",
        "\n",
        "#Imputing the missing values in reviews with mode\n",
        "reviews_mode = df['reviews'].mode()[0]\n",
        "df['reviews'] = df['reviews'].fillna(reviews_mode)\n",
        "\n",
        "#Filling missing values in warranty with 'No warranty information available'\n",
        "df.fillna({'warranty': \"No Warranty Info\"}, inplace=True)"
      ],
      "metadata": {
        "id": "Q0ixuqeZtwkx"
      },
      "execution_count": 14,
      "outputs": []
    },
    {
      "cell_type": "code",
      "source": [
        "print(df.isnull().sum())"
      ],
      "metadata": {
        "colab": {
          "base_uri": "https://localhost:8080/"
        },
        "id": "ZD5xog_VvrFc",
        "outputId": "85c7bba6-2e27-437a-90bd-e392df858ace"
      },
      "execution_count": 15,
      "outputs": [
        {
          "output_type": "stream",
          "name": "stdout",
          "text": [
            "battery      0\n",
            "camera       0\n",
            "display      0\n",
            "memory       0\n",
            "name         0\n",
            "price        0\n",
            "processor    0\n",
            "rating       0\n",
            "reviews      0\n",
            "warranty     0\n",
            "dtype: int64\n"
          ]
        }
      ]
    }
  ]
}