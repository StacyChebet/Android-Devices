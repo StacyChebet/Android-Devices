{
  "nbformat": 4,
  "nbformat_minor": 0,
  "metadata": {
    "colab": {
      "provenance": [],
      "authorship_tag": "ABX9TyNlfWILqbW1pEd1Nr+lgJpC",
      "include_colab_link": true
    },
    "kernelspec": {
      "name": "python3",
      "display_name": "Python 3"
    },
    "language_info": {
      "name": "python"
    }
  },
  "cells": [
    {
      "cell_type": "markdown",
      "metadata": {
        "id": "view-in-github",
        "colab_type": "text"
      },
      "source": [
        "<a href=\"https://colab.research.google.com/github/StacyChebet/Android-Devices/blob/main/AndroidDevices_EDA_Practice.ipynb\" target=\"_parent\"><img src=\"https://colab.research.google.com/assets/colab-badge.svg\" alt=\"Open In Colab\"/></a>"
      ]
    },
    {
      "cell_type": "markdown",
      "source": [
        "Exploratory Data Analysis using \"Android Devices and Mobiles\" dataset on Kaggle."
      ],
      "metadata": {
        "id": "4Yh3LEzWnORt"
      }
    },
    {
      "cell_type": "markdown",
      "source": [
        "##**Dataset Overview**\n",
        "The Android Devices and Mobiles dataset was scraped from Flipkart using Scrapy as part of a web scraping project. It was the creator’s second published dataset, primarily aimed at improving web scraping skills. This dataset provides an opportunity to practice exploratory data analysis (EDA), enhance data visualization skills, and work on solving basic regression problems. It serves as a valuable resource for honing analytical and modeling techniques in the context of e-commerce data.\n",
        "\n",
        "##**Features in the Dataset**\n",
        "- `battery`: The battery type and capacity in milliampere-hour (mAh)\n",
        "- `camera`: The camera resolution in megapixels\n",
        "- `display`: The screen size (in cm and inches) and the resolution\n",
        "- `memory`: The RAM capacity in gigabytes\n",
        "- `name`: The name of the device\n",
        "- `price`: The price of the device\n",
        "- `processor`: The processor type\n",
        "- `rating`: The rating of the device on a scale of 0 - 5\n",
        "- `reviews`: The number of reviews\n",
        "- `warranty`: The rype of warranty\n",
        "\n",
        "##**Loading Libraries and Data**\n",
        "Libraries used:\n",
        "- **Pandas**: For data manipulation\n",
        "- **Numpy**: For numerical operations\n",
        "- **Seaborn**: For data visualization\n"
      ],
      "metadata": {
        "id": "zwCCik0UnYPX"
      }
    },
    {
      "cell_type": "code",
      "source": [
        "#Importing necessary libraries\n",
        "import pandas as pd\n",
        "import numpy as np\n",
        "import matplotlib.pyplot as plt\n",
        "import seaborn as sns\n",
        "\n",
        "#Setting visualization styles\n",
        "sns.set(style=\"whitegrid\")\n",
        "\n",
        "#Mounting google drive\n",
        "from google.colab import drive\n",
        "drive.mount('/content/drive')\n",
        "\n",
        "#Changing directory\n",
        "%cd /content/drive/My Drive/Colab Notebooks/Data Analytics - IBT/AndroidDevices\n",
        "\n",
        "#Loading the dataset\n",
        "file_path = \"mobiles1.csv\"\n",
        "df = pd.read_csv(file_path)\n",
        "\n",
        "#Displaying the first few rows of the dataset\n",
        "df.head()"
      ],
      "metadata": {
        "colab": {
          "base_uri": "https://localhost:8080/",
          "height": 416
        },
        "id": "UeZI828DuG-3",
        "outputId": "76a43db6-24d9-4d96-8b1f-0552716f920f"
      },
      "execution_count": 18,
      "outputs": [
        {
          "output_type": "stream",
          "name": "stdout",
          "text": [
            "Drive already mounted at /content/drive; to attempt to forcibly remount, call drive.mount(\"/content/drive\", force_remount=True).\n",
            "/content/drive/My Drive/Colab Notebooks/Data Analytics - IBT/AndroidDevices\n"
          ]
        },
        {
          "output_type": "execute_result",
          "data": {
            "text/plain": [
              "            battery                                     camera  \\\n",
              "0  5000 mAh Battery              12MP + 2MP | 8MP Front Camera   \n",
              "1  5000 mAh Battery  12MP + 8MP + 2MP + 2MP | 8MP Front Camera   \n",
              "2  5000 mAh Battery  12MP + 8MP + 2MP + 2MP | 8MP Front Camera   \n",
              "3  5000 mAh Battery  12MP + 8MP + 2MP + 2MP | 8MP Front Camera   \n",
              "4  4000 mAh Battery              13MP + 2MP | 5MP Front Camera   \n",
              "\n",
              "                            display  \\\n",
              "0   15.8 cm (6.22 inch) HD+ Display   \n",
              "1  16.56 cm (6.52 inch) HD+ Display   \n",
              "2  16.56 cm (6.52 inch) HD+ Display   \n",
              "3  16.56 cm (6.52 inch) HD+ Display   \n",
              "4   15.49 cm (6.1 inch) HD+ Display   \n",
              "\n",
              "                                          memory  \\\n",
              "0  4 GB RAM | 64 GB ROM | Expandable Upto 512 GB   \n",
              "1                           4 GB RAM | 64 GB ROM   \n",
              "2                          4 GB RAM | 128 GB ROM   \n",
              "3                          4 GB RAM | 128 GB ROM   \n",
              "4  3 GB RAM | 32 GB ROM | Expandable Upto 256 GB   \n",
              "\n",
              "                               name  price  \\\n",
              "0         Redmi 8 (Ruby Red, 64 GB)   9999   \n",
              "1      Realme 5i (Aqua Blue, 64 GB)  10999   \n",
              "2     Realme 5i (Aqua Blue, 128 GB)  11999   \n",
              "3  Realme 5i (Forest Green, 128 GB)  11999   \n",
              "4   Realme C2 (Diamond Blue, 32 GB)   7499   \n",
              "\n",
              "                                   processor  rating         reviews  \\\n",
              "0          Qualcomm Snapdragon 439 Processor     4.4  55,078 Reviews   \n",
              "1    Qualcomm Snapdragon 665 2 GHz Processor     4.5  20,062 Reviews   \n",
              "2  Qualcomm Snapdragon 665 (2 GHz) Processor     4.5  20,062 Reviews   \n",
              "3  Qualcomm Snapdragon 665 (2 GHz) Processor     4.5  20,062 Reviews   \n",
              "4   MediaTek P22 Octa Core 2.0 GHz Processor     4.4  10,091 Reviews   \n",
              "\n",
              "                                            warranty  \n",
              "0  Brand Warranty of 1 Year Available for Mobile ...  \n",
              "1                                     Sunrise Design  \n",
              "2                                     Sunrise Design  \n",
              "3                                     Sunrise Design  \n",
              "4           Dual Nano SIM slots and Memory Card Slot  "
            ],
            "text/html": [
              "\n",
              "  <div id=\"df-f01c379a-eb9b-4839-a5e9-76e017ef3255\" class=\"colab-df-container\">\n",
              "    <div>\n",
              "<style scoped>\n",
              "    .dataframe tbody tr th:only-of-type {\n",
              "        vertical-align: middle;\n",
              "    }\n",
              "\n",
              "    .dataframe tbody tr th {\n",
              "        vertical-align: top;\n",
              "    }\n",
              "\n",
              "    .dataframe thead th {\n",
              "        text-align: right;\n",
              "    }\n",
              "</style>\n",
              "<table border=\"1\" class=\"dataframe\">\n",
              "  <thead>\n",
              "    <tr style=\"text-align: right;\">\n",
              "      <th></th>\n",
              "      <th>battery</th>\n",
              "      <th>camera</th>\n",
              "      <th>display</th>\n",
              "      <th>memory</th>\n",
              "      <th>name</th>\n",
              "      <th>price</th>\n",
              "      <th>processor</th>\n",
              "      <th>rating</th>\n",
              "      <th>reviews</th>\n",
              "      <th>warranty</th>\n",
              "    </tr>\n",
              "  </thead>\n",
              "  <tbody>\n",
              "    <tr>\n",
              "      <th>0</th>\n",
              "      <td>5000 mAh Battery</td>\n",
              "      <td>12MP + 2MP | 8MP Front Camera</td>\n",
              "      <td>15.8 cm (6.22 inch) HD+ Display</td>\n",
              "      <td>4 GB RAM | 64 GB ROM | Expandable Upto 512 GB</td>\n",
              "      <td>Redmi 8 (Ruby Red, 64 GB)</td>\n",
              "      <td>9999</td>\n",
              "      <td>Qualcomm Snapdragon 439 Processor</td>\n",
              "      <td>4.4</td>\n",
              "      <td>55,078 Reviews</td>\n",
              "      <td>Brand Warranty of 1 Year Available for Mobile ...</td>\n",
              "    </tr>\n",
              "    <tr>\n",
              "      <th>1</th>\n",
              "      <td>5000 mAh Battery</td>\n",
              "      <td>12MP + 8MP + 2MP + 2MP | 8MP Front Camera</td>\n",
              "      <td>16.56 cm (6.52 inch) HD+ Display</td>\n",
              "      <td>4 GB RAM | 64 GB ROM</td>\n",
              "      <td>Realme 5i (Aqua Blue, 64 GB)</td>\n",
              "      <td>10999</td>\n",
              "      <td>Qualcomm Snapdragon 665 2 GHz Processor</td>\n",
              "      <td>4.5</td>\n",
              "      <td>20,062 Reviews</td>\n",
              "      <td>Sunrise Design</td>\n",
              "    </tr>\n",
              "    <tr>\n",
              "      <th>2</th>\n",
              "      <td>5000 mAh Battery</td>\n",
              "      <td>12MP + 8MP + 2MP + 2MP | 8MP Front Camera</td>\n",
              "      <td>16.56 cm (6.52 inch) HD+ Display</td>\n",
              "      <td>4 GB RAM | 128 GB ROM</td>\n",
              "      <td>Realme 5i (Aqua Blue, 128 GB)</td>\n",
              "      <td>11999</td>\n",
              "      <td>Qualcomm Snapdragon 665 (2 GHz) Processor</td>\n",
              "      <td>4.5</td>\n",
              "      <td>20,062 Reviews</td>\n",
              "      <td>Sunrise Design</td>\n",
              "    </tr>\n",
              "    <tr>\n",
              "      <th>3</th>\n",
              "      <td>5000 mAh Battery</td>\n",
              "      <td>12MP + 8MP + 2MP + 2MP | 8MP Front Camera</td>\n",
              "      <td>16.56 cm (6.52 inch) HD+ Display</td>\n",
              "      <td>4 GB RAM | 128 GB ROM</td>\n",
              "      <td>Realme 5i (Forest Green, 128 GB)</td>\n",
              "      <td>11999</td>\n",
              "      <td>Qualcomm Snapdragon 665 (2 GHz) Processor</td>\n",
              "      <td>4.5</td>\n",
              "      <td>20,062 Reviews</td>\n",
              "      <td>Sunrise Design</td>\n",
              "    </tr>\n",
              "    <tr>\n",
              "      <th>4</th>\n",
              "      <td>4000 mAh Battery</td>\n",
              "      <td>13MP + 2MP | 5MP Front Camera</td>\n",
              "      <td>15.49 cm (6.1 inch) HD+ Display</td>\n",
              "      <td>3 GB RAM | 32 GB ROM | Expandable Upto 256 GB</td>\n",
              "      <td>Realme C2 (Diamond Blue, 32 GB)</td>\n",
              "      <td>7499</td>\n",
              "      <td>MediaTek P22 Octa Core 2.0 GHz Processor</td>\n",
              "      <td>4.4</td>\n",
              "      <td>10,091 Reviews</td>\n",
              "      <td>Dual Nano SIM slots and Memory Card Slot</td>\n",
              "    </tr>\n",
              "  </tbody>\n",
              "</table>\n",
              "</div>\n",
              "    <div class=\"colab-df-buttons\">\n",
              "\n",
              "  <div class=\"colab-df-container\">\n",
              "    <button class=\"colab-df-convert\" onclick=\"convertToInteractive('df-f01c379a-eb9b-4839-a5e9-76e017ef3255')\"\n",
              "            title=\"Convert this dataframe to an interactive table.\"\n",
              "            style=\"display:none;\">\n",
              "\n",
              "  <svg xmlns=\"http://www.w3.org/2000/svg\" height=\"24px\" viewBox=\"0 -960 960 960\">\n",
              "    <path d=\"M120-120v-720h720v720H120Zm60-500h600v-160H180v160Zm220 220h160v-160H400v160Zm0 220h160v-160H400v160ZM180-400h160v-160H180v160Zm440 0h160v-160H620v160ZM180-180h160v-160H180v160Zm440 0h160v-160H620v160Z\"/>\n",
              "  </svg>\n",
              "    </button>\n",
              "\n",
              "  <style>\n",
              "    .colab-df-container {\n",
              "      display:flex;\n",
              "      gap: 12px;\n",
              "    }\n",
              "\n",
              "    .colab-df-convert {\n",
              "      background-color: #E8F0FE;\n",
              "      border: none;\n",
              "      border-radius: 50%;\n",
              "      cursor: pointer;\n",
              "      display: none;\n",
              "      fill: #1967D2;\n",
              "      height: 32px;\n",
              "      padding: 0 0 0 0;\n",
              "      width: 32px;\n",
              "    }\n",
              "\n",
              "    .colab-df-convert:hover {\n",
              "      background-color: #E2EBFA;\n",
              "      box-shadow: 0px 1px 2px rgba(60, 64, 67, 0.3), 0px 1px 3px 1px rgba(60, 64, 67, 0.15);\n",
              "      fill: #174EA6;\n",
              "    }\n",
              "\n",
              "    .colab-df-buttons div {\n",
              "      margin-bottom: 4px;\n",
              "    }\n",
              "\n",
              "    [theme=dark] .colab-df-convert {\n",
              "      background-color: #3B4455;\n",
              "      fill: #D2E3FC;\n",
              "    }\n",
              "\n",
              "    [theme=dark] .colab-df-convert:hover {\n",
              "      background-color: #434B5C;\n",
              "      box-shadow: 0px 1px 3px 1px rgba(0, 0, 0, 0.15);\n",
              "      filter: drop-shadow(0px 1px 2px rgba(0, 0, 0, 0.3));\n",
              "      fill: #FFFFFF;\n",
              "    }\n",
              "  </style>\n",
              "\n",
              "    <script>\n",
              "      const buttonEl =\n",
              "        document.querySelector('#df-f01c379a-eb9b-4839-a5e9-76e017ef3255 button.colab-df-convert');\n",
              "      buttonEl.style.display =\n",
              "        google.colab.kernel.accessAllowed ? 'block' : 'none';\n",
              "\n",
              "      async function convertToInteractive(key) {\n",
              "        const element = document.querySelector('#df-f01c379a-eb9b-4839-a5e9-76e017ef3255');\n",
              "        const dataTable =\n",
              "          await google.colab.kernel.invokeFunction('convertToInteractive',\n",
              "                                                    [key], {});\n",
              "        if (!dataTable) return;\n",
              "\n",
              "        const docLinkHtml = 'Like what you see? Visit the ' +\n",
              "          '<a target=\"_blank\" href=https://colab.research.google.com/notebooks/data_table.ipynb>data table notebook</a>'\n",
              "          + ' to learn more about interactive tables.';\n",
              "        element.innerHTML = '';\n",
              "        dataTable['output_type'] = 'display_data';\n",
              "        await google.colab.output.renderOutput(dataTable, element);\n",
              "        const docLink = document.createElement('div');\n",
              "        docLink.innerHTML = docLinkHtml;\n",
              "        element.appendChild(docLink);\n",
              "      }\n",
              "    </script>\n",
              "  </div>\n",
              "\n",
              "\n",
              "<div id=\"df-245c9739-8af4-45e8-87aa-bfc1c86faa72\">\n",
              "  <button class=\"colab-df-quickchart\" onclick=\"quickchart('df-245c9739-8af4-45e8-87aa-bfc1c86faa72')\"\n",
              "            title=\"Suggest charts\"\n",
              "            style=\"display:none;\">\n",
              "\n",
              "<svg xmlns=\"http://www.w3.org/2000/svg\" height=\"24px\"viewBox=\"0 0 24 24\"\n",
              "     width=\"24px\">\n",
              "    <g>\n",
              "        <path d=\"M19 3H5c-1.1 0-2 .9-2 2v14c0 1.1.9 2 2 2h14c1.1 0 2-.9 2-2V5c0-1.1-.9-2-2-2zM9 17H7v-7h2v7zm4 0h-2V7h2v10zm4 0h-2v-4h2v4z\"/>\n",
              "    </g>\n",
              "</svg>\n",
              "  </button>\n",
              "\n",
              "<style>\n",
              "  .colab-df-quickchart {\n",
              "      --bg-color: #E8F0FE;\n",
              "      --fill-color: #1967D2;\n",
              "      --hover-bg-color: #E2EBFA;\n",
              "      --hover-fill-color: #174EA6;\n",
              "      --disabled-fill-color: #AAA;\n",
              "      --disabled-bg-color: #DDD;\n",
              "  }\n",
              "\n",
              "  [theme=dark] .colab-df-quickchart {\n",
              "      --bg-color: #3B4455;\n",
              "      --fill-color: #D2E3FC;\n",
              "      --hover-bg-color: #434B5C;\n",
              "      --hover-fill-color: #FFFFFF;\n",
              "      --disabled-bg-color: #3B4455;\n",
              "      --disabled-fill-color: #666;\n",
              "  }\n",
              "\n",
              "  .colab-df-quickchart {\n",
              "    background-color: var(--bg-color);\n",
              "    border: none;\n",
              "    border-radius: 50%;\n",
              "    cursor: pointer;\n",
              "    display: none;\n",
              "    fill: var(--fill-color);\n",
              "    height: 32px;\n",
              "    padding: 0;\n",
              "    width: 32px;\n",
              "  }\n",
              "\n",
              "  .colab-df-quickchart:hover {\n",
              "    background-color: var(--hover-bg-color);\n",
              "    box-shadow: 0 1px 2px rgba(60, 64, 67, 0.3), 0 1px 3px 1px rgba(60, 64, 67, 0.15);\n",
              "    fill: var(--button-hover-fill-color);\n",
              "  }\n",
              "\n",
              "  .colab-df-quickchart-complete:disabled,\n",
              "  .colab-df-quickchart-complete:disabled:hover {\n",
              "    background-color: var(--disabled-bg-color);\n",
              "    fill: var(--disabled-fill-color);\n",
              "    box-shadow: none;\n",
              "  }\n",
              "\n",
              "  .colab-df-spinner {\n",
              "    border: 2px solid var(--fill-color);\n",
              "    border-color: transparent;\n",
              "    border-bottom-color: var(--fill-color);\n",
              "    animation:\n",
              "      spin 1s steps(1) infinite;\n",
              "  }\n",
              "\n",
              "  @keyframes spin {\n",
              "    0% {\n",
              "      border-color: transparent;\n",
              "      border-bottom-color: var(--fill-color);\n",
              "      border-left-color: var(--fill-color);\n",
              "    }\n",
              "    20% {\n",
              "      border-color: transparent;\n",
              "      border-left-color: var(--fill-color);\n",
              "      border-top-color: var(--fill-color);\n",
              "    }\n",
              "    30% {\n",
              "      border-color: transparent;\n",
              "      border-left-color: var(--fill-color);\n",
              "      border-top-color: var(--fill-color);\n",
              "      border-right-color: var(--fill-color);\n",
              "    }\n",
              "    40% {\n",
              "      border-color: transparent;\n",
              "      border-right-color: var(--fill-color);\n",
              "      border-top-color: var(--fill-color);\n",
              "    }\n",
              "    60% {\n",
              "      border-color: transparent;\n",
              "      border-right-color: var(--fill-color);\n",
              "    }\n",
              "    80% {\n",
              "      border-color: transparent;\n",
              "      border-right-color: var(--fill-color);\n",
              "      border-bottom-color: var(--fill-color);\n",
              "    }\n",
              "    90% {\n",
              "      border-color: transparent;\n",
              "      border-bottom-color: var(--fill-color);\n",
              "    }\n",
              "  }\n",
              "</style>\n",
              "\n",
              "  <script>\n",
              "    async function quickchart(key) {\n",
              "      const quickchartButtonEl =\n",
              "        document.querySelector('#' + key + ' button');\n",
              "      quickchartButtonEl.disabled = true;  // To prevent multiple clicks.\n",
              "      quickchartButtonEl.classList.add('colab-df-spinner');\n",
              "      try {\n",
              "        const charts = await google.colab.kernel.invokeFunction(\n",
              "            'suggestCharts', [key], {});\n",
              "      } catch (error) {\n",
              "        console.error('Error during call to suggestCharts:', error);\n",
              "      }\n",
              "      quickchartButtonEl.classList.remove('colab-df-spinner');\n",
              "      quickchartButtonEl.classList.add('colab-df-quickchart-complete');\n",
              "    }\n",
              "    (() => {\n",
              "      let quickchartButtonEl =\n",
              "        document.querySelector('#df-245c9739-8af4-45e8-87aa-bfc1c86faa72 button');\n",
              "      quickchartButtonEl.style.display =\n",
              "        google.colab.kernel.accessAllowed ? 'block' : 'none';\n",
              "    })();\n",
              "  </script>\n",
              "</div>\n",
              "\n",
              "    </div>\n",
              "  </div>\n"
            ],
            "application/vnd.google.colaboratory.intrinsic+json": {
              "type": "dataframe",
              "variable_name": "df",
              "summary": "{\n  \"name\": \"df\",\n  \"rows\": 984,\n  \"fields\": [\n    {\n      \"column\": \"battery\",\n      \"properties\": {\n        \"dtype\": \"category\",\n        \"num_unique_values\": 177,\n        \"samples\": [\n          \"4500 mAh Lithium-ion Battery\",\n          \"4020 mAh Battery\",\n          \"2500 mAh Lithium Polymer Battery\"\n        ],\n        \"semantic_type\": \"\",\n        \"description\": \"\"\n      }\n    },\n    {\n      \"column\": \"camera\",\n      \"properties\": {\n        \"dtype\": \"category\",\n        \"num_unique_values\": 185,\n        \"samples\": [\n          \"64MP + 8MP + 2MP + 2MP | 20MP Front Camera\",\n          \"48MP + 8MP + 5MP + 5MP | 20MP Front Camera\",\n          \"5MP + 0.08MP | 2MP Front Camera\"\n        ],\n        \"semantic_type\": \"\",\n        \"description\": \"\"\n      }\n    },\n    {\n      \"column\": \"display\",\n      \"properties\": {\n        \"dtype\": \"category\",\n        \"num_unique_values\": 125,\n        \"samples\": [\n          \"16.59 cm (6.53 inch) Display\",\n          \"13.84 cm (5.45 inch) FWVGA Display\",\n          \"13.46 cm (5.3 inch) Full HD+ Display\"\n        ],\n        \"semantic_type\": \"\",\n        \"description\": \"\"\n      }\n    },\n    {\n      \"column\": \"memory\",\n      \"properties\": {\n        \"dtype\": \"category\",\n        \"num_unique_values\": 89,\n        \"samples\": [\n          \"3 GB RAM | 16 GB ROM | Expandable Upto 64 GB\",\n          \"1 GB RAM | 16 GB ROM | Expandable Upto 128 GB\",\n          \"8 GB RAM | 256 GB ROM | Expandable Upto 256 GB\"\n        ],\n        \"semantic_type\": \"\",\n        \"description\": \"\"\n      }\n    },\n    {\n      \"column\": \"name\",\n      \"properties\": {\n        \"dtype\": \"string\",\n        \"num_unique_values\": 878,\n        \"samples\": [\n          \"Itel A23 (Phantom Black, 8 GB)\",\n          \"Realme XT (Pearl Blue, 128 GB)\",\n          \"Samsung Galaxy On5 (Gold, 8 GB)\"\n        ],\n        \"semantic_type\": \"\",\n        \"description\": \"\"\n      }\n    },\n    {\n      \"column\": \"price\",\n      \"properties\": {\n        \"dtype\": \"number\",\n        \"std\": 12891,\n        \"min\": 887,\n        \"max\": 104999,\n        \"num_unique_values\": 355,\n        \"samples\": [\n          3290,\n          15891,\n          26900\n        ],\n        \"semantic_type\": \"\",\n        \"description\": \"\"\n      }\n    },\n    {\n      \"column\": \"processor\",\n      \"properties\": {\n        \"dtype\": \"category\",\n        \"num_unique_values\": 287,\n        \"samples\": [\n          \"Qualcomm SM6125 Processor\",\n          \"MT6737T Processor\",\n          \"Octa Core Qualcomm Snapdragon 430 Processor\"\n        ],\n        \"semantic_type\": \"\",\n        \"description\": \"\"\n      }\n    },\n    {\n      \"column\": \"rating\",\n      \"properties\": {\n        \"dtype\": \"number\",\n        \"std\": 0.30029575492320726,\n        \"min\": 2.7,\n        \"max\": 4.9,\n        \"num_unique_values\": 23,\n        \"samples\": [\n          3.6,\n          4.0,\n          4.4\n        ],\n        \"semantic_type\": \"\",\n        \"description\": \"\"\n      }\n    },\n    {\n      \"column\": \"reviews\",\n      \"properties\": {\n        \"dtype\": \"category\",\n        \"num_unique_values\": 386,\n        \"samples\": [\n          \"2,290 Reviews\",\n          \"380 Reviews\",\n          \"36 Reviews\"\n        ],\n        \"semantic_type\": \"\",\n        \"description\": \"\"\n      }\n    },\n    {\n      \"column\": \"warranty\",\n      \"properties\": {\n        \"dtype\": \"category\",\n        \"num_unique_values\": 92,\n        \"samples\": [\n          \"Brand Warranty of 1 Year Available for Mobile, 6 Months for Battery and 3 Months on Accessories (Data Cable)\",\n          \"Fast Charging\",\n          \"1 Year for Mobile & 6 Months for Accessories\"\n        ],\n        \"semantic_type\": \"\",\n        \"description\": \"\"\n      }\n    }\n  ]\n}"
            }
          },
          "metadata": {},
          "execution_count": 18
        }
      ]
    },
    {
      "cell_type": "markdown",
      "source": [
        "##**Initial Data Exploration**\n",
        "An initial exploration of the dataset to understand its structure and basic characteristics by:\n",
        "1. Checking the shape of the dataset\n",
        "2. Displaying the data types of each column\n",
        "3. Getting a summary of the dataset using descriptive statistics"
      ],
      "metadata": {
        "id": "aKLd-nDCvz8U"
      }
    },
    {
      "cell_type": "code",
      "source": [
        "#Checking the shape of the dataset\n",
        "print(f\"The data set contains {df.shape[0]} rows and {df.shape[1]} columns.\")\n",
        "\n",
        "#Displaying the data types of each column\n",
        "print(\"\\nData types of each column:\")\n",
        "print(df.dtypes)\n",
        "\n",
        "#Getting a summary of the dataset using descriptive statistics\n",
        "print(\"\\nSummary of the dataset:\")\n",
        "print(df.describe().T)"
      ],
      "metadata": {
        "colab": {
          "base_uri": "https://localhost:8080/"
        },
        "id": "_ioDVPOYwckK",
        "outputId": "745b39a6-5535-432c-af42-3dc0c1f6539e"
      },
      "execution_count": 19,
      "outputs": [
        {
          "output_type": "stream",
          "name": "stdout",
          "text": [
            "The data set contains 984 rows and 10 columns.\n",
            "\n",
            "Data types of each column:\n",
            "battery       object\n",
            "camera        object\n",
            "display       object\n",
            "memory        object\n",
            "name          object\n",
            "price          int64\n",
            "processor     object\n",
            "rating       float64\n",
            "reviews       object\n",
            "warranty      object\n",
            "dtype: object\n",
            "\n",
            "Summary of the dataset:\n",
            "        count          mean           std    min     25%      50%       75%  \\\n",
            "price   984.0  15429.848577  12891.355967  887.0  7499.0  11649.0  17999.25   \n",
            "rating  971.0      4.241195      0.300296    2.7     4.1      4.3      4.40   \n",
            "\n",
            "             max  \n",
            "price   104999.0  \n",
            "rating       4.9  \n"
          ]
        }
      ]
    },
    {
      "cell_type": "markdown",
      "source": [
        "##**Findings**\n",
        "- The dataset only has 2 numeric columns: `price` and `rating`.\n",
        "- The `rating` column has a count of 971 meaning 13 rows have null values.\n",
        "\n",
        "##**Summary Statistics of the Numeric Columns**\n",
        "- `price`: The price ranges from 887 to 104,999 with a significant standard deviation of 12891.36, suggesting a wide disparity in the device prices.\n",
        "- `rating`: The rating ranges from 2.7 to 4.9 with a standard deviation of 0.3, suggesting that the data points are closer to the mean, which is 4.2."
      ],
      "metadata": {
        "id": "Ar1rkl_fxchA"
      }
    },
    {
      "cell_type": "markdown",
      "source": [
        "##**Checking for Missing Values**"
      ],
      "metadata": {
        "id": "qb25l4HtQOHS"
      }
    },
    {
      "cell_type": "code",
      "source": [
        "#Check for missing values in each column\n",
        "print(\"\\nMissing values in each column:\")\n",
        "print(df.isnull().sum())"
      ],
      "metadata": {
        "colab": {
          "base_uri": "https://localhost:8080/"
        },
        "id": "Ev_ySdq8QTMc",
        "outputId": "e5f04b10-2ac3-46c7-cadb-820aa205b3d2"
      },
      "execution_count": 20,
      "outputs": [
        {
          "output_type": "stream",
          "name": "stdout",
          "text": [
            "\n",
            "Missing values in each column:\n",
            "battery        0\n",
            "camera         0\n",
            "display        0\n",
            "memory         0\n",
            "name           0\n",
            "price          0\n",
            "processor      1\n",
            "rating        13\n",
            "reviews       13\n",
            "warranty     148\n",
            "dtype: int64\n"
          ]
        }
      ]
    },
    {
      "cell_type": "markdown",
      "source": [
        "##**Missing Values Analysis**\n",
        "Missing data can significantly affect the outcomes of our analysis and predictive modeling.<br>\n",
        "Here's a breakdown of missing values across different columns in the dataset:\n",
        "- `battery`, `camera`, `display`, `memory`, `name`, `price`: No missing values, which simplifies preprocessing for these columns.\n",
        "- `processor`: 1 missing value. There is need to make a decision whether to remove or impute this value.\n",
        "- `rating`: 13 missing values, which is small compared to the relative dataset size, and we may opt for simple imputation methods like mode replacement.\n",
        "- `reviews`: 13 missing values and just like with `rating`, we might opt for mode replacement.\n",
        "- `warranty`: 148 missing values, which is a significant number that requires careful consideration for imputation, as it could impact analysis related to the price of devices."
      ],
      "metadata": {
        "id": "ahco9HarQm-S"
      }
    },
    {
      "cell_type": "markdown",
      "source": [
        "##**Check for Unique Values to Understand Cardinality**"
      ],
      "metadata": {
        "id": "NS_OFA4MSKrN"
      }
    },
    {
      "cell_type": "code",
      "source": [
        "#Check the number of unique values in each column to understand cardinality\n",
        "print(\"\\nUnique Values in Each Column:\")\n",
        "print(df.nunique())"
      ],
      "metadata": {
        "colab": {
          "base_uri": "https://localhost:8080/"
        },
        "id": "Jw2rycvRS1Da",
        "outputId": "5cb8293f-5371-418d-c9c5-aa144d4e2a09"
      },
      "execution_count": 21,
      "outputs": [
        {
          "output_type": "stream",
          "name": "stdout",
          "text": [
            "\n",
            "Unique Values in Each Column:\n",
            "battery      177\n",
            "camera       185\n",
            "display      125\n",
            "memory        89\n",
            "name         878\n",
            "price        355\n",
            "processor    287\n",
            "rating        23\n",
            "reviews      386\n",
            "warranty      92\n",
            "dtype: int64\n"
          ]
        }
      ]
    },
    {
      "cell_type": "markdown",
      "source": [
        "##**Cardinality Analysis**\n",
        "Understanding cardinality is important for identifying features with a wide range of values and those with limited variety.<br>\n",
        "Below is a summary of the cardinality in each column of the dataset:\n",
        "- `battery`: 177 unique values, which implys a wide range of battery capacities.\n",
        "- `camera`: 185 unique values, which exhibits high cardinality, implying a wide range of camera resolutions.\n",
        "- `display`: 125 unique values, which indicates moderate cardinality. This suggests that there is a significant variety in display specifications.\n",
        "- `memory`: 89 unique values, which exhibits moderate cardinality meaning there may be commonly repeated values for example 32GB, 128GB.\n",
        "- `name`: 878 unique values, indicating a high cardinality which suggests that most devices have unique names.\n",
        "- `price`: 355 unique values, showing a relatively high variation in pricing.\n",
        "- `processor`: 287 unique values which exhibits a relatively high cardinality, implying a wide range of processor specifications.\n",
        "- `rating`: 23 unique values, indicating that there may be discrete ratings.\n",
        "- `reviews`: 386 unique values, showing diverse review counts across devices.\n",
        "- `warranty`: 92 unique values, exhibiting moderate cardinality. This means that there may be commonly repeated warranty specifications.\n",
        "\n",
        "##**Implications of Cardinality**\n",
        "- **High Cardinality (`name`, `processor`, `price`, `reviews`)**: May require encoding techniques like target encoding or embeddings if used in machine learning models.\n",
        "- **Moderate Cardinality(`camera`, `battery`, `display`)**: May be grouped into bins for better analysis or visualization.\n",
        "- **Low Cardinality (`memory`, `rating`, `warranty`)**: Suggests that these columns may be categorical and suitable for one-hot encoding\n"
      ],
      "metadata": {
        "id": "v8sNsMuAs_mL"
      }
    },
    {
      "cell_type": "markdown",
      "source": [
        "##**Treating Missing Values in the Dataset**\n",
        "Missing values can introduce bias and affect the performance of machine learning models. <br>\n",
        "The following columns have missing values that need to be addressed before further analysis:\n",
        "- `processor`: Since this column is only missing 1 value, which is small relative to the size of the dataset, the most appropriate action is to drop this row.\n",
        "- `rating`: 13 values are missing and since this is a categorical value, mode imputation is the best action, which represents the most common category.\n",
        "- `reviews`: This column is also missing 13 values and mode imputation is the best course of action.\n",
        "- `warranty`: There are 148 values missing in this column, which is significant when compared to the size of the dataset. Since there is no way to determine the warranty type, filling the missing values with 'No warranty information' would be the best course of action."
      ],
      "metadata": {
        "id": "9V9LyX25o_cs"
      }
    },
    {
      "cell_type": "code",
      "source": [
        "# Deleting the row with a missing processor value\n",
        "df.dropna(subset=['processor'], inplace=True)\n",
        "\n",
        "#Imputing the missing values in rating with mode\n",
        "rating_mode = df['rating'].mode()[0]\n",
        "df['rating'] = df['rating'].fillna(rating_mode)\n",
        "\n",
        "#Imputing the missing values in reviews with mode\n",
        "reviews_mode = df['reviews'].mode()[0]\n",
        "df['reviews'] = df['reviews'].fillna(reviews_mode)\n",
        "\n",
        "#Filling missing values in warranty with 'No warranty information available'\n",
        "df.fillna({'warranty': \"No Warranty Info\"}, inplace=True)"
      ],
      "metadata": {
        "id": "Q0ixuqeZtwkx"
      },
      "execution_count": 22,
      "outputs": []
    },
    {
      "cell_type": "code",
      "source": [
        "print(df.isnull().sum())"
      ],
      "metadata": {
        "colab": {
          "base_uri": "https://localhost:8080/"
        },
        "id": "ZD5xog_VvrFc",
        "outputId": "87f72636-fca2-4459-b40c-7b5dc653cc09"
      },
      "execution_count": 23,
      "outputs": [
        {
          "output_type": "stream",
          "name": "stdout",
          "text": [
            "battery      0\n",
            "camera       0\n",
            "display      0\n",
            "memory       0\n",
            "name         0\n",
            "price        0\n",
            "processor    0\n",
            "rating       0\n",
            "reviews      0\n",
            "warranty     0\n",
            "dtype: int64\n"
          ]
        }
      ]
    },
    {
      "cell_type": "markdown",
      "source": [
        "###**Identifying Numerical and Categorical Variables**\n"
      ],
      "metadata": {
        "id": "4yJneDL4wKkO"
      }
    },
    {
      "cell_type": "code",
      "source": [
        "# Remove the word \"Reviews\" and convert to numerical values\n",
        "df[\"reviews\"] = df[\"reviews\"].str.replace(\" Reviews\", \"\", regex=False).str.replace(\",\", \"\").astype(int)\n",
        "\n",
        "print(df.dtypes)"
      ],
      "metadata": {
        "colab": {
          "base_uri": "https://localhost:8080/"
        },
        "id": "CAuIBpHuxXgw",
        "outputId": "3a364877-878a-4712-aac4-bf263d06e1a5"
      },
      "execution_count": 24,
      "outputs": [
        {
          "output_type": "stream",
          "name": "stdout",
          "text": [
            "battery       object\n",
            "camera        object\n",
            "display       object\n",
            "memory        object\n",
            "name          object\n",
            "price          int64\n",
            "processor     object\n",
            "rating       float64\n",
            "reviews        int64\n",
            "warranty      object\n",
            "dtype: object\n"
          ]
        }
      ]
    },
    {
      "cell_type": "code",
      "source": [
        "#Identifying numerical and categorical variables\n",
        "numerical_vars = df.select_dtypes(include=['number']).columns.tolist()\n",
        "categorical_vars = df.select_dtypes(include=['object', 'category']).columns.tolist()\n",
        "\n",
        "print(\"Numerical Variables:\", numerical_vars)\n",
        "print(\"Categorical Variables:\", categorical_vars)"
      ],
      "metadata": {
        "colab": {
          "base_uri": "https://localhost:8080/"
        },
        "id": "E4Zy27Fjx1_k",
        "outputId": "49a95555-93e4-422b-987e-43eaf98467a5"
      },
      "execution_count": 26,
      "outputs": [
        {
          "output_type": "stream",
          "name": "stdout",
          "text": [
            "Numerical Variables: ['price', 'rating', 'reviews']\n",
            "Categorical Variables: ['battery', 'camera', 'display', 'memory', 'name', 'processor', 'warranty']\n"
          ]
        }
      ]
    },
    {
      "cell_type": "markdown",
      "source": [
        "##**Univariate Analysis**\n",
        "### **For Numerical Variables** <br>\n",
        "1. **Histogram**<br>\n",
        "- Graphical representation of the distribution of numerical data.\n",
        "- Helps in understanding the frequency distribution, identifying skewness, and detecting outliers."
      ],
      "metadata": {
        "id": "VdjYbw2wysEZ"
      }
    },
    {
      "cell_type": "code",
      "source": [
        "#Univariate analysis for numerical variables using histograms\n",
        "for var in numerical_vars:\n",
        "  sns.histplot(df[var].dropna(), kde=True)\n",
        "  plt.title(f'Distribution of {var}')\n",
        "  plt.show()"
      ],
      "metadata": {
        "colab": {
          "base_uri": "https://localhost:8080/",
          "height": 1000
        },
        "id": "wYBaMrPMzodE",
        "outputId": "ba19042a-09ff-4a46-84bb-478adad59c44"
      },
      "execution_count": 27,
      "outputs": [
        {
          "output_type": "display_data",
          "data": {
            "text/plain": [
              "<Figure size 640x480 with 1 Axes>"
            ],
            "image/png": "[encoded data removed]"
          },
          "metadata": {}
        },
        {
          "output_type": "display_data",
          "data": {
            "text/plain": [
              "<Figure size 640x480 with 1 Axes>"
            ],
            "image/png": "[encoded data removed]"
          },
          "metadata": {}
        },
        {
          "output_type": "display_data",
          "data": {
            "text/plain": [
              "<Figure size 640x480 with 1 Axes>"
            ],
            "image/png": "[encoded data removed]"
          },
          "metadata": {}
        }
      ]
    },
    {
      "cell_type": "markdown",
      "source": [
        "###**Histogram Findings**\n",
        "1. `price`\n",
        "- Right-skewed distribution, with most prices concentrated at the lower end.\n",
        "- Some outliers with very high prices.\n",
        "2. `rating`\n",
        "- Left-skewed distribution, suggesting that most devices have a good rating.\n",
        "3. `reviews`\n",
        "- Highly right-skewed distribution, with most review counts concentrated on the lower end."
      ],
      "metadata": {
        "id": "GSfxMbzB0RgJ"
      }
    },
    {
      "cell_type": "markdown",
      "source": [
        "##**Dropping Unnecessary Columns**\n",
        "Dropping columns that do not provide significant analytical value enables streamlining of the dataset.<br>\n",
        "These columns are:\n",
        "- `name`: Since each device has a unique name, it has a high cardinality and does not provide useful patterns  for analysis unless used for grouping.\n",
        "- `warranty`: Unless warranty length impacts price or sales, it may not add much analytical value. However, if analyzing customer trust or durability, it might be useful.\n",
        "\n",
        "**Columns that are useful for analysis**:\n",
        "- `battery`, `camera`, `display`, `memory`, `processor`: Important for performance analysis.\n",
        "- `price`: Critical for price trend analysis.\n",
        "- `rating`, `reviews`: Useful for customer satisfaction analysis."
      ],
      "metadata": {
        "id": "01ohrngX3M4j"
      }
    },
    {
      "cell_type": "code",
      "source": [
        "#Dropping unnecessary columns\n",
        "columns_to_drop = ['name', 'warranty']\n",
        "df.drop(columns=columns_to_drop, inplace=True)\n",
        "\n",
        "#Display the first few rows to confirm changes\n",
        "df.head()"
      ],
      "metadata": {
        "colab": {
          "base_uri": "https://localhost:8080/",
          "height": 293
        },
        "id": "KhP9cmPV5yyj",
        "outputId": "c284aaba-f4a8-4634-b919-3a26ee7ebe7e"
      },
      "execution_count": 28,
      "outputs": [
        {
          "output_type": "execute_result",
          "data": {
            "text/plain": [
              "            battery                                     camera  \\\n",
              "0  5000 mAh Battery              12MP + 2MP | 8MP Front Camera   \n",
              "1  5000 mAh Battery  12MP + 8MP + 2MP + 2MP | 8MP Front Camera   \n",
              "2  5000 mAh Battery  12MP + 8MP + 2MP + 2MP | 8MP Front Camera   \n",
              "3  5000 mAh Battery  12MP + 8MP + 2MP + 2MP | 8MP Front Camera   \n",
              "4  4000 mAh Battery              13MP + 2MP | 5MP Front Camera   \n",
              "\n",
              "                            display  \\\n",
              "0   15.8 cm (6.22 inch) HD+ Display   \n",
              "1  16.56 cm (6.52 inch) HD+ Display   \n",
              "2  16.56 cm (6.52 inch) HD+ Display   \n",
              "3  16.56 cm (6.52 inch) HD+ Display   \n",
              "4   15.49 cm (6.1 inch) HD+ Display   \n",
              "\n",
              "                                          memory  price  \\\n",
              "0  4 GB RAM | 64 GB ROM | Expandable Upto 512 GB   9999   \n",
              "1                           4 GB RAM | 64 GB ROM  10999   \n",
              "2                          4 GB RAM | 128 GB ROM  11999   \n",
              "3                          4 GB RAM | 128 GB ROM  11999   \n",
              "4  3 GB RAM | 32 GB ROM | Expandable Upto 256 GB   7499   \n",
              "\n",
              "                                   processor  rating  reviews  \n",
              "0          Qualcomm Snapdragon 439 Processor     4.4    55078  \n",
              "1    Qualcomm Snapdragon 665 2 GHz Processor     4.5    20062  \n",
              "2  Qualcomm Snapdragon 665 (2 GHz) Processor     4.5    20062  \n",
              "3  Qualcomm Snapdragon 665 (2 GHz) Processor     4.5    20062  \n",
              "4   MediaTek P22 Octa Core 2.0 GHz Processor     4.4    10091  "
            ],
            "text/html": [
              "\n",
              "  <div id=\"df-e37ba15b-1ae8-433e-85c2-b8a689b9b7c9\" class=\"colab-df-container\">\n",
              "    <div>\n",
              "<style scoped>\n",
              "    .dataframe tbody tr th:only-of-type {\n",
              "        vertical-align: middle;\n",
              "    }\n",
              "\n",
              "    .dataframe tbody tr th {\n",
              "        vertical-align: top;\n",
              "    }\n",
              "\n",
              "    .dataframe thead th {\n",
              "        text-align: right;\n",
              "    }\n",
              "</style>\n",
              "<table border=\"1\" class=\"dataframe\">\n",
              "  <thead>\n",
              "    <tr style=\"text-align: right;\">\n",
              "      <th></th>\n",
              "      <th>battery</th>\n",
              "      <th>camera</th>\n",
              "      <th>display</th>\n",
              "      <th>memory</th>\n",
              "      <th>price</th>\n",
              "      <th>processor</th>\n",
              "      <th>rating</th>\n",
              "      <th>reviews</th>\n",
              "    </tr>\n",
              "  </thead>\n",
              "  <tbody>\n",
              "    <tr>\n",
              "      <th>0</th>\n",
              "      <td>5000 mAh Battery</td>\n",
              "      <td>12MP + 2MP | 8MP Front Camera</td>\n",
              "      <td>15.8 cm (6.22 inch) HD+ Display</td>\n",
              "      <td>4 GB RAM | 64 GB ROM | Expandable Upto 512 GB</td>\n",
              "      <td>9999</td>\n",
              "      <td>Qualcomm Snapdragon 439 Processor</td>\n",
              "      <td>4.4</td>\n",
              "      <td>55078</td>\n",
              "    </tr>\n",
              "    <tr>\n",
              "      <th>1</th>\n",
              "      <td>5000 mAh Battery</td>\n",
              "      <td>12MP + 8MP + 2MP + 2MP | 8MP Front Camera</td>\n",
              "      <td>16.56 cm (6.52 inch) HD+ Display</td>\n",
              "      <td>4 GB RAM | 64 GB ROM</td>\n",
              "      <td>10999</td>\n",
              "      <td>Qualcomm Snapdragon 665 2 GHz Processor</td>\n",
              "      <td>4.5</td>\n",
              "      <td>20062</td>\n",
              "    </tr>\n",
              "    <tr>\n",
              "      <th>2</th>\n",
              "      <td>5000 mAh Battery</td>\n",
              "      <td>12MP + 8MP + 2MP + 2MP | 8MP Front Camera</td>\n",
              "      <td>16.56 cm (6.52 inch) HD+ Display</td>\n",
              "      <td>4 GB RAM | 128 GB ROM</td>\n",
              "      <td>11999</td>\n",
              "      <td>Qualcomm Snapdragon 665 (2 GHz) Processor</td>\n",
              "      <td>4.5</td>\n",
              "      <td>20062</td>\n",
              "    </tr>\n",
              "    <tr>\n",
              "      <th>3</th>\n",
              "      <td>5000 mAh Battery</td>\n",
              "      <td>12MP + 8MP + 2MP + 2MP | 8MP Front Camera</td>\n",
              "      <td>16.56 cm (6.52 inch) HD+ Display</td>\n",
              "      <td>4 GB RAM | 128 GB ROM</td>\n",
              "      <td>11999</td>\n",
              "      <td>Qualcomm Snapdragon 665 (2 GHz) Processor</td>\n",
              "      <td>4.5</td>\n",
              "      <td>20062</td>\n",
              "    </tr>\n",
              "    <tr>\n",
              "      <th>4</th>\n",
              "      <td>4000 mAh Battery</td>\n",
              "      <td>13MP + 2MP | 5MP Front Camera</td>\n",
              "      <td>15.49 cm (6.1 inch) HD+ Display</td>\n",
              "      <td>3 GB RAM | 32 GB ROM | Expandable Upto 256 GB</td>\n",
              "      <td>7499</td>\n",
              "      <td>MediaTek P22 Octa Core 2.0 GHz Processor</td>\n",
              "      <td>4.4</td>\n",
              "      <td>10091</td>\n",
              "    </tr>\n",
              "  </tbody>\n",
              "</table>\n",
              "</div>\n",
              "    <div class=\"colab-df-buttons\">\n",
              "\n",
              "  <div class=\"colab-df-container\">\n",
              "    <button class=\"colab-df-convert\" onclick=\"convertToInteractive('df-e37ba15b-1ae8-433e-85c2-b8a689b9b7c9')\"\n",
              "            title=\"Convert this dataframe to an interactive table.\"\n",
              "            style=\"display:none;\">\n",
              "\n",
              "  <svg xmlns=\"http://www.w3.org/2000/svg\" height=\"24px\" viewBox=\"0 -960 960 960\">\n",
              "    <path d=\"M120-120v-720h720v720H120Zm60-500h600v-160H180v160Zm220 220h160v-160H400v160Zm0 220h160v-160H400v160ZM180-400h160v-160H180v160Zm440 0h160v-160H620v160ZM180-180h160v-160H180v160Zm440 0h160v-160H620v160Z\"/>\n",
              "  </svg>\n",
              "    </button>\n",
              "\n",
              "  <style>\n",
              "    .colab-df-container {\n",
              "      display:flex;\n",
              "      gap: 12px;\n",
              "    }\n",
              "\n",
              "    .colab-df-convert {\n",
              "      background-color: #E8F0FE;\n",
              "      border: none;\n",
              "      border-radius: 50%;\n",
              "      cursor: pointer;\n",
              "      display: none;\n",
              "      fill: #1967D2;\n",
              "      height: 32px;\n",
              "      padding: 0 0 0 0;\n",
              "      width: 32px;\n",
              "    }\n",
              "\n",
              "    .colab-df-convert:hover {\n",
              "      background-color: #E2EBFA;\n",
              "      box-shadow: 0px 1px 2px rgba(60, 64, 67, 0.3), 0px 1px 3px 1px rgba(60, 64, 67, 0.15);\n",
              "      fill: #174EA6;\n",
              "    }\n",
              "\n",
              "    .colab-df-buttons div {\n",
              "      margin-bottom: 4px;\n",
              "    }\n",
              "\n",
              "    [theme=dark] .colab-df-convert {\n",
              "      background-color: #3B4455;\n",
              "      fill: #D2E3FC;\n",
              "    }\n",
              "\n",
              "    [theme=dark] .colab-df-convert:hover {\n",
              "      background-color: #434B5C;\n",
              "      box-shadow: 0px 1px 3px 1px rgba(0, 0, 0, 0.15);\n",
              "      filter: drop-shadow(0px 1px 2px rgba(0, 0, 0, 0.3));\n",
              "      fill: #FFFFFF;\n",
              "    }\n",
              "  </style>\n",
              "\n",
              "    <script>\n",
              "      const buttonEl =\n",
              "        document.querySelector('#df-e37ba15b-1ae8-433e-85c2-b8a689b9b7c9 button.colab-df-convert');\n",
              "      buttonEl.style.display =\n",
              "        google.colab.kernel.accessAllowed ? 'block' : 'none';\n",
              "\n",
              "      async function convertToInteractive(key) {\n",
              "        const element = document.querySelector('#df-e37ba15b-1ae8-433e-85c2-b8a689b9b7c9');\n",
              "        const dataTable =\n",
              "          await google.colab.kernel.invokeFunction('convertToInteractive',\n",
              "                                                    [key], {});\n",
              "        if (!dataTable) return;\n",
              "\n",
              "        const docLinkHtml = 'Like what you see? Visit the ' +\n",
              "          '<a target=\"_blank\" href=https://colab.research.google.com/notebooks/data_table.ipynb>data table notebook</a>'\n",
              "          + ' to learn more about interactive tables.';\n",
              "        element.innerHTML = '';\n",
              "        dataTable['output_type'] = 'display_data';\n",
              "        await google.colab.output.renderOutput(dataTable, element);\n",
              "        const docLink = document.createElement('div');\n",
              "        docLink.innerHTML = docLinkHtml;\n",
              "        element.appendChild(docLink);\n",
              "      }\n",
              "    </script>\n",
              "  </div>\n",
              "\n",
              "\n",
              "<div id=\"df-c1a71b63-2e21-405b-b9d5-1db74dd09151\">\n",
              "  <button class=\"colab-df-quickchart\" onclick=\"quickchart('df-c1a71b63-2e21-405b-b9d5-1db74dd09151')\"\n",
              "            title=\"Suggest charts\"\n",
              "            style=\"display:none;\">\n",
              "\n",
              "<svg xmlns=\"http://www.w3.org/2000/svg\" height=\"24px\"viewBox=\"0 0 24 24\"\n",
              "     width=\"24px\">\n",
              "    <g>\n",
              "        <path d=\"M19 3H5c-1.1 0-2 .9-2 2v14c0 1.1.9 2 2 2h14c1.1 0 2-.9 2-2V5c0-1.1-.9-2-2-2zM9 17H7v-7h2v7zm4 0h-2V7h2v10zm4 0h-2v-4h2v4z\"/>\n",
              "    </g>\n",
              "</svg>\n",
              "  </button>\n",
              "\n",
              "<style>\n",
              "  .colab-df-quickchart {\n",
              "      --bg-color: #E8F0FE;\n",
              "      --fill-color: #1967D2;\n",
              "      --hover-bg-color: #E2EBFA;\n",
              "      --hover-fill-color: #174EA6;\n",
              "      --disabled-fill-color: #AAA;\n",
              "      --disabled-bg-color: #DDD;\n",
              "  }\n",
              "\n",
              "  [theme=dark] .colab-df-quickchart {\n",
              "      --bg-color: #3B4455;\n",
              "      --fill-color: #D2E3FC;\n",
              "      --hover-bg-color: #434B5C;\n",
              "      --hover-fill-color: #FFFFFF;\n",
              "      --disabled-bg-color: #3B4455;\n",
              "      --disabled-fill-color: #666;\n",
              "  }\n",
              "\n",
              "  .colab-df-quickchart {\n",
              "    background-color: var(--bg-color);\n",
              "    border: none;\n",
              "    border-radius: 50%;\n",
              "    cursor: pointer;\n",
              "    display: none;\n",
              "    fill: var(--fill-color);\n",
              "    height: 32px;\n",
              "    padding: 0;\n",
              "    width: 32px;\n",
              "  }\n",
              "\n",
              "  .colab-df-quickchart:hover {\n",
              "    background-color: var(--hover-bg-color);\n",
              "    box-shadow: 0 1px 2px rgba(60, 64, 67, 0.3), 0 1px 3px 1px rgba(60, 64, 67, 0.15);\n",
              "    fill: var(--button-hover-fill-color);\n",
              "  }\n",
              "\n",
              "  .colab-df-quickchart-complete:disabled,\n",
              "  .colab-df-quickchart-complete:disabled:hover {\n",
              "    background-color: var(--disabled-bg-color);\n",
              "    fill: var(--disabled-fill-color);\n",
              "    box-shadow: none;\n",
              "  }\n",
              "\n",
              "  .colab-df-spinner {\n",
              "    border: 2px solid var(--fill-color);\n",
              "    border-color: transparent;\n",
              "    border-bottom-color: var(--fill-color);\n",
              "    animation:\n",
              "      spin 1s steps(1) infinite;\n",
              "  }\n",
              "\n",
              "  @keyframes spin {\n",
              "    0% {\n",
              "      border-color: transparent;\n",
              "      border-bottom-color: var(--fill-color);\n",
              "      border-left-color: var(--fill-color);\n",
              "    }\n",
              "    20% {\n",
              "      border-color: transparent;\n",
              "      border-left-color: var(--fill-color);\n",
              "      border-top-color: var(--fill-color);\n",
              "    }\n",
              "    30% {\n",
              "      border-color: transparent;\n",
              "      border-left-color: var(--fill-color);\n",
              "      border-top-color: var(--fill-color);\n",
              "      border-right-color: var(--fill-color);\n",
              "    }\n",
              "    40% {\n",
              "      border-color: transparent;\n",
              "      border-right-color: var(--fill-color);\n",
              "      border-top-color: var(--fill-color);\n",
              "    }\n",
              "    60% {\n",
              "      border-color: transparent;\n",
              "      border-right-color: var(--fill-color);\n",
              "    }\n",
              "    80% {\n",
              "      border-color: transparent;\n",
              "      border-right-color: var(--fill-color);\n",
              "      border-bottom-color: var(--fill-color);\n",
              "    }\n",
              "    90% {\n",
              "      border-color: transparent;\n",
              "      border-bottom-color: var(--fill-color);\n",
              "    }\n",
              "  }\n",
              "</style>\n",
              "\n",
              "  <script>\n",
              "    async function quickchart(key) {\n",
              "      const quickchartButtonEl =\n",
              "        document.querySelector('#' + key + ' button');\n",
              "      quickchartButtonEl.disabled = true;  // To prevent multiple clicks.\n",
              "      quickchartButtonEl.classList.add('colab-df-spinner');\n",
              "      try {\n",
              "        const charts = await google.colab.kernel.invokeFunction(\n",
              "            'suggestCharts', [key], {});\n",
              "      } catch (error) {\n",
              "        console.error('Error during call to suggestCharts:', error);\n",
              "      }\n",
              "      quickchartButtonEl.classList.remove('colab-df-spinner');\n",
              "      quickchartButtonEl.classList.add('colab-df-quickchart-complete');\n",
              "    }\n",
              "    (() => {\n",
              "      let quickchartButtonEl =\n",
              "        document.querySelector('#df-c1a71b63-2e21-405b-b9d5-1db74dd09151 button');\n",
              "      quickchartButtonEl.style.display =\n",
              "        google.colab.kernel.accessAllowed ? 'block' : 'none';\n",
              "    })();\n",
              "  </script>\n",
              "</div>\n",
              "\n",
              "    </div>\n",
              "  </div>\n"
            ],
            "application/vnd.google.colaboratory.intrinsic+json": {
              "type": "dataframe",
              "variable_name": "df",
              "summary": "{\n  \"name\": \"df\",\n  \"rows\": 983,\n  \"fields\": [\n    {\n      \"column\": \"battery\",\n      \"properties\": {\n        \"dtype\": \"category\",\n        \"num_unique_values\": 177,\n        \"samples\": [\n          \"4500 mAh Lithium-ion Battery\",\n          \"4020 mAh Battery\",\n          \"2500 mAh Lithium Polymer Battery\"\n        ],\n        \"semantic_type\": \"\",\n        \"description\": \"\"\n      }\n    },\n    {\n      \"column\": \"camera\",\n      \"properties\": {\n        \"dtype\": \"category\",\n        \"num_unique_values\": 185,\n        \"samples\": [\n          \"64MP + 8MP + 2MP + 2MP | 20MP Front Camera\",\n          \"48MP + 8MP + 5MP + 5MP | 20MP Front Camera\",\n          \"5MP + 0.08MP | 2MP Front Camera\"\n        ],\n        \"semantic_type\": \"\",\n        \"description\": \"\"\n      }\n    },\n    {\n      \"column\": \"display\",\n      \"properties\": {\n        \"dtype\": \"category\",\n        \"num_unique_values\": 125,\n        \"samples\": [\n          \"16.59 cm (6.53 inch) Display\",\n          \"13.84 cm (5.45 inch) FWVGA Display\",\n          \"13.46 cm (5.3 inch) Full HD+ Display\"\n        ],\n        \"semantic_type\": \"\",\n        \"description\": \"\"\n      }\n    },\n    {\n      \"column\": \"memory\",\n      \"properties\": {\n        \"dtype\": \"category\",\n        \"num_unique_values\": 89,\n        \"samples\": [\n          \"3 GB RAM | 16 GB ROM | Expandable Upto 64 GB\",\n          \"1 GB RAM | 16 GB ROM | Expandable Upto 128 GB\",\n          \"8 GB RAM | 256 GB ROM | Expandable Upto 256 GB\"\n        ],\n        \"semantic_type\": \"\",\n        \"description\": \"\"\n      }\n    },\n    {\n      \"column\": \"price\",\n      \"properties\": {\n        \"dtype\": \"number\",\n        \"std\": 12897,\n        \"min\": 887,\n        \"max\": 104999,\n        \"num_unique_values\": 354,\n        \"samples\": [\n          36000,\n          15891,\n          5124\n        ],\n        \"semantic_type\": \"\",\n        \"description\": \"\"\n      }\n    },\n    {\n      \"column\": \"processor\",\n      \"properties\": {\n        \"dtype\": \"category\",\n        \"num_unique_values\": 287,\n        \"samples\": [\n          \"Qualcomm SM6125 Processor\",\n          \"MT6737T Processor\",\n          \"Octa Core Qualcomm Snapdragon 430 Processor\"\n        ],\n        \"semantic_type\": \"\",\n        \"description\": \"\"\n      }\n    },\n    {\n      \"column\": \"rating\",\n      \"properties\": {\n        \"dtype\": \"number\",\n        \"std\": 0.2989717238747323,\n        \"min\": 2.7,\n        \"max\": 4.9,\n        \"num_unique_values\": 23,\n        \"samples\": [\n          3.6,\n          4.0,\n          4.4\n        ],\n        \"semantic_type\": \"\",\n        \"description\": \"\"\n      }\n    },\n    {\n      \"column\": \"reviews\",\n      \"properties\": {\n        \"dtype\": \"number\",\n        \"std\": 14887,\n        \"min\": 0,\n        \"max\": 153238,\n        \"num_unique_values\": 386,\n        \"samples\": [\n          2290,\n          380,\n          36\n        ],\n        \"semantic_type\": \"\",\n        \"description\": \"\"\n      }\n    }\n  ]\n}"
            }
          },
          "metadata": {},
          "execution_count": 28
        }
      ]
    },
    {
      "cell_type": "markdown",
      "source": [
        "2. **Boxplot**\n",
        "- Standardized way of displaying the distribution of data based on a five-number summary: minimum, first quartile (Q1), median, third quartile (Q3) and maximum.\n",
        "- Useful in identifying outliers and understanding thr spread and symmetry of the data.\n"
      ],
      "metadata": {
        "id": "pkLv8ulS6et7"
      }
    },
    {
      "cell_type": "code",
      "source": [
        "#Univariate analysis of numerical variables using a boxplot\n",
        "for var in numerical_vars:\n",
        "  sns.boxplot(x=df[var].dropna())\n",
        "  plt.title(f'Distribution of {var}')\n",
        "  plt.show()"
      ],
      "metadata": {
        "colab": {
          "base_uri": "https://localhost:8080/",
          "height": 1000
        },
        "id": "YA0rlUhb7KOw",
        "outputId": "21ea9264-4abf-4682-c75f-d2c189bc2f8d"
      },
      "execution_count": 29,
      "outputs": [
        {
          "output_type": "display_data",
          "data": {
            "text/plain": [
              "<Figure size 640x480 with 1 Axes>"
            ],
            "image/png": "[encoded data removed]"
          },
          "metadata": {}
        },
        {
          "output_type": "display_data",
          "data": {
            "text/plain": [
              "<Figure size 640x480 with 1 Axes>"
            ],
            "image/png": "[encoded data removed]"
          },
          "metadata": {}
        },
        {
          "output_type": "display_data",
          "data": {
            "text/plain": [
              "<Figure size 640x480 with 1 Axes>"
            ],
            "image/png": "[encoded data removed]"
          },
          "metadata": {}
        }
      ]
    },
    {
      "cell_type": "markdown",
      "source": [
        "###**Boxplot Findings**\n",
        "- `price`: Has a significant amount of outliers at the higher end.\n",
        "- `rating`: Shows a left-skewed distribution with most  values clustered around higher ratings.\n",
        "- `reviews`: Displays extreme outliers, confirming the right-skewed nature seen earlier.\n"
      ],
      "metadata": {
        "id": "I_LcE3Yz8Wvh"
      }
    },
    {
      "cell_type": "markdown",
      "source": [
        "###**Boxplot Findings Implications**\n",
        "- Since the numerical variables show extreme outliers and skewness, we can apply transformations to make the data more normally distributed.<br>\n",
        "- The actions to take:<br>\n",
        " - **Log Transformation for Right-Skewed Data:**<br>\n",
        " Applying log transformation to `price` and `reviews` to reduce skewness and handle large disparities; this will make patterns easier to analyze.\n",
        " - **Handling outliers:**<br>\n",
        " Using *Interquartile Range (IQR)* method to detect and possibly remove extreme outliers in `price` and `reviews`.\n",
        " - **Winsorization:**<br>\n",
        " Winsorization adjusts the extreme values in the `ratings` column by capping them at a certain percentile. Winsorization is preferred over square or cube transformation because transforming small numbers may not be very effective.\n"
      ],
      "metadata": {
        "id": "_OqzdpvM9tq1"
      }
    },
    {
      "cell_type": "code",
      "source": [
        "#Applying IQR first before log transformation\n",
        "def remove_outliers(df, column):\n",
        "  Q1 = df[column].quantile(0.25)\n",
        "  Q3 = df[column].quantile(0.75)\n",
        "\n",
        "  IQR = Q3 - Q1\n",
        "\n",
        "  lower_bound = Q1 - (1.5*IQR)\n",
        "  upper_bound = Q3 + (1.5*IQR)\n",
        "\n",
        "  df.drop(df[(df[column] < lower_bound) | (df[column] > upper_bound)].index, inplace=True)\n",
        "\n",
        "#Applying IQR outlier removal in place\n",
        "remove_outliers(df, 'price')\n",
        "remove_outliers(df, 'reviews')\n"
      ],
      "metadata": {
        "id": "6TkGpBrbAxJ8"
      },
      "execution_count": 30,
      "outputs": []
    },
    {
      "cell_type": "code",
      "source": [
        "#Applying log transformation to price and reviews\n",
        "df['price'] = (df['price'] + 1).apply(np.log)\n",
        "df['reviews'] = (df['reviews'] + 1).apply(np.log)"
      ],
      "metadata": {
        "id": "YBHzmkwTDzZA"
      },
      "execution_count": 31,
      "outputs": []
    },
    {
      "cell_type": "code",
      "source": [
        "#Plotting the transformed distributions\n",
        "for var in ['price','reviews']:\n",
        "  sns.histplot(df[var].dropna(), kde=True)\n",
        "  plt.title(f'Distribution of {var}')\n",
        "  plt.show()"
      ],
      "metadata": {
        "colab": {
          "base_uri": "https://localhost:8080/",
          "height": 943
        },
        "id": "vC5VEy_nES4N",
        "outputId": "79ba2830-137d-44cd-cac3-aa5c2222107d"
      },
      "execution_count": 32,
      "outputs": [
        {
          "output_type": "display_data",
          "data": {
            "text/plain": [
              "<Figure size 640x480 with 1 Axes>"
            ],
            "image/png": "[encoded data removed]"
          },
          "metadata": {}
        },
        {
          "output_type": "display_data",
          "data": {
            "text/plain": [
              "<Figure size 640x480 with 1 Axes>"
            ],
            "image/png": "[encoded data removed]"
          },
          "metadata": {}
        }
      ]
    }
  ]
}